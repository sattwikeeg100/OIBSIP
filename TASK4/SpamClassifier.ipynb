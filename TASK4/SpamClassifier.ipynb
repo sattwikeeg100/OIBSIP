{
  "nbformat": 4,
  "nbformat_minor": 0,
  "metadata": {
    "colab": {
      "provenance": []
    },
    "kernelspec": {
      "name": "python3",
      "display_name": "Python 3"
    },
    "language_info": {
      "name": "python"
    }
  },
  "cells": [
    {
      "cell_type": "markdown",
      "source": [
        "# OASIS INFOBYTE ML INTERNSHIP"
      ],
      "metadata": {
        "id": "uoq6_GMV44GW"
      }
    },
    {
      "cell_type": "markdown",
      "source": [
        "### TASK 4 : EMAIL SPAM DETECTION WITH MACHINE LEARNING\n",
        "BY SATTWIKEE GHOSH"
      ],
      "metadata": {
        "id": "6zImBVgm5AkW"
      }
    },
    {
      "cell_type": "code",
      "execution_count": 1,
      "metadata": {
        "id": "7NoiqE894xQx"
      },
      "outputs": [],
      "source": [
        "import numpy as np\n",
        "import pandas as pd\n",
        "from matplotlib import pyplot as plt"
      ]
    },
    {
      "cell_type": "code",
      "source": [
        "from google.colab import files\n",
        "data=files.upload()"
      ],
      "metadata": {
        "colab": {
          "base_uri": "https://localhost:8080/",
          "height": 73
        },
        "id": "s_N-fJxr7Ek2",
        "outputId": "90221748-9cf9-4ad6-bb84-5316b7faeac9"
      },
      "execution_count": 2,
      "outputs": [
        {
          "output_type": "display_data",
          "data": {
            "text/plain": [
              "<IPython.core.display.HTML object>"
            ],
            "text/html": [
              "\n",
              "     <input type=\"file\" id=\"files-f1827cba-2b26-4907-b4c2-ed91094e0b4b\" name=\"files[]\" multiple disabled\n",
              "        style=\"border:none\" />\n",
              "     <output id=\"result-f1827cba-2b26-4907-b4c2-ed91094e0b4b\">\n",
              "      Upload widget is only available when the cell has been executed in the\n",
              "      current browser session. Please rerun this cell to enable.\n",
              "      </output>\n",
              "      <script>// Copyright 2017 Google LLC\n",
              "//\n",
              "// Licensed under the Apache License, Version 2.0 (the \"License\");\n",
              "// you may not use this file except in compliance with the License.\n",
              "// You may obtain a copy of the License at\n",
              "//\n",
              "//      http://www.apache.org/licenses/LICENSE-2.0\n",
              "//\n",
              "// Unless required by applicable law or agreed to in writing, software\n",
              "// distributed under the License is distributed on an \"AS IS\" BASIS,\n",
              "// WITHOUT WARRANTIES OR CONDITIONS OF ANY KIND, either express or implied.\n",
              "// See the License for the specific language governing permissions and\n",
              "// limitations under the License.\n",
              "\n",
              "/**\n",
              " * @fileoverview Helpers for google.colab Python module.\n",
              " */\n",
              "(function(scope) {\n",
              "function span(text, styleAttributes = {}) {\n",
              "  const element = document.createElement('span');\n",
              "  element.textContent = text;\n",
              "  for (const key of Object.keys(styleAttributes)) {\n",
              "    element.style[key] = styleAttributes[key];\n",
              "  }\n",
              "  return element;\n",
              "}\n",
              "\n",
              "// Max number of bytes which will be uploaded at a time.\n",
              "const MAX_PAYLOAD_SIZE = 100 * 1024;\n",
              "\n",
              "function _uploadFiles(inputId, outputId) {\n",
              "  const steps = uploadFilesStep(inputId, outputId);\n",
              "  const outputElement = document.getElementById(outputId);\n",
              "  // Cache steps on the outputElement to make it available for the next call\n",
              "  // to uploadFilesContinue from Python.\n",
              "  outputElement.steps = steps;\n",
              "\n",
              "  return _uploadFilesContinue(outputId);\n",
              "}\n",
              "\n",
              "// This is roughly an async generator (not supported in the browser yet),\n",
              "// where there are multiple asynchronous steps and the Python side is going\n",
              "// to poll for completion of each step.\n",
              "// This uses a Promise to block the python side on completion of each step,\n",
              "// then passes the result of the previous step as the input to the next step.\n",
              "function _uploadFilesContinue(outputId) {\n",
              "  const outputElement = document.getElementById(outputId);\n",
              "  const steps = outputElement.steps;\n",
              "\n",
              "  const next = steps.next(outputElement.lastPromiseValue);\n",
              "  return Promise.resolve(next.value.promise).then((value) => {\n",
              "    // Cache the last promise value to make it available to the next\n",
              "    // step of the generator.\n",
              "    outputElement.lastPromiseValue = value;\n",
              "    return next.value.response;\n",
              "  });\n",
              "}\n",
              "\n",
              "/**\n",
              " * Generator function which is called between each async step of the upload\n",
              " * process.\n",
              " * @param {string} inputId Element ID of the input file picker element.\n",
              " * @param {string} outputId Element ID of the output display.\n",
              " * @return {!Iterable<!Object>} Iterable of next steps.\n",
              " */\n",
              "function* uploadFilesStep(inputId, outputId) {\n",
              "  const inputElement = document.getElementById(inputId);\n",
              "  inputElement.disabled = false;\n",
              "\n",
              "  const outputElement = document.getElementById(outputId);\n",
              "  outputElement.innerHTML = '';\n",
              "\n",
              "  const pickedPromise = new Promise((resolve) => {\n",
              "    inputElement.addEventListener('change', (e) => {\n",
              "      resolve(e.target.files);\n",
              "    });\n",
              "  });\n",
              "\n",
              "  const cancel = document.createElement('button');\n",
              "  inputElement.parentElement.appendChild(cancel);\n",
              "  cancel.textContent = 'Cancel upload';\n",
              "  const cancelPromise = new Promise((resolve) => {\n",
              "    cancel.onclick = () => {\n",
              "      resolve(null);\n",
              "    };\n",
              "  });\n",
              "\n",
              "  // Wait for the user to pick the files.\n",
              "  const files = yield {\n",
              "    promise: Promise.race([pickedPromise, cancelPromise]),\n",
              "    response: {\n",
              "      action: 'starting',\n",
              "    }\n",
              "  };\n",
              "\n",
              "  cancel.remove();\n",
              "\n",
              "  // Disable the input element since further picks are not allowed.\n",
              "  inputElement.disabled = true;\n",
              "\n",
              "  if (!files) {\n",
              "    return {\n",
              "      response: {\n",
              "        action: 'complete',\n",
              "      }\n",
              "    };\n",
              "  }\n",
              "\n",
              "  for (const file of files) {\n",
              "    const li = document.createElement('li');\n",
              "    li.append(span(file.name, {fontWeight: 'bold'}));\n",
              "    li.append(span(\n",
              "        `(${file.type || 'n/a'}) - ${file.size} bytes, ` +\n",
              "        `last modified: ${\n",
              "            file.lastModifiedDate ? file.lastModifiedDate.toLocaleDateString() :\n",
              "                                    'n/a'} - `));\n",
              "    const percent = span('0% done');\n",
              "    li.appendChild(percent);\n",
              "\n",
              "    outputElement.appendChild(li);\n",
              "\n",
              "    const fileDataPromise = new Promise((resolve) => {\n",
              "      const reader = new FileReader();\n",
              "      reader.onload = (e) => {\n",
              "        resolve(e.target.result);\n",
              "      };\n",
              "      reader.readAsArrayBuffer(file);\n",
              "    });\n",
              "    // Wait for the data to be ready.\n",
              "    let fileData = yield {\n",
              "      promise: fileDataPromise,\n",
              "      response: {\n",
              "        action: 'continue',\n",
              "      }\n",
              "    };\n",
              "\n",
              "    // Use a chunked sending to avoid message size limits. See b/62115660.\n",
              "    let position = 0;\n",
              "    do {\n",
              "      const length = Math.min(fileData.byteLength - position, MAX_PAYLOAD_SIZE);\n",
              "      const chunk = new Uint8Array(fileData, position, length);\n",
              "      position += length;\n",
              "\n",
              "      const base64 = btoa(String.fromCharCode.apply(null, chunk));\n",
              "      yield {\n",
              "        response: {\n",
              "          action: 'append',\n",
              "          file: file.name,\n",
              "          data: base64,\n",
              "        },\n",
              "      };\n",
              "\n",
              "      let percentDone = fileData.byteLength === 0 ?\n",
              "          100 :\n",
              "          Math.round((position / fileData.byteLength) * 100);\n",
              "      percent.textContent = `${percentDone}% done`;\n",
              "\n",
              "    } while (position < fileData.byteLength);\n",
              "  }\n",
              "\n",
              "  // All done.\n",
              "  yield {\n",
              "    response: {\n",
              "      action: 'complete',\n",
              "    }\n",
              "  };\n",
              "}\n",
              "\n",
              "scope.google = scope.google || {};\n",
              "scope.google.colab = scope.google.colab || {};\n",
              "scope.google.colab._files = {\n",
              "  _uploadFiles,\n",
              "  _uploadFilesContinue,\n",
              "};\n",
              "})(self);\n",
              "</script> "
            ]
          },
          "metadata": {}
        },
        {
          "output_type": "stream",
          "name": "stdout",
          "text": [
            "Saving spam.csv to spam.csv\n"
          ]
        }
      ]
    },
    {
      "cell_type": "code",
      "source": [
        "df=pd.read_csv('spam.csv',encoding = \"ISO-8859-1\")"
      ],
      "metadata": {
        "id": "ABRodzqU8cRl"
      },
      "execution_count": 9,
      "outputs": []
    },
    {
      "cell_type": "markdown",
      "source": [
        "### **Data exploration**"
      ],
      "metadata": {
        "id": "ajLC0wNjDpiV"
      }
    },
    {
      "cell_type": "code",
      "source": [
        "df.info()"
      ],
      "metadata": {
        "colab": {
          "base_uri": "https://localhost:8080/"
        },
        "id": "CmmWp5aJ8sEC",
        "outputId": "c63f54e2-f124-4d4c-f6b2-32cd3f3e54f4"
      },
      "execution_count": 10,
      "outputs": [
        {
          "output_type": "stream",
          "name": "stdout",
          "text": [
            "<class 'pandas.core.frame.DataFrame'>\n",
            "RangeIndex: 5572 entries, 0 to 5571\n",
            "Data columns (total 5 columns):\n",
            " #   Column      Non-Null Count  Dtype \n",
            "---  ------      --------------  ----- \n",
            " 0   v1          5572 non-null   object\n",
            " 1   v2          5572 non-null   object\n",
            " 2   Unnamed: 2  50 non-null     object\n",
            " 3   Unnamed: 3  12 non-null     object\n",
            " 4   Unnamed: 4  6 non-null      object\n",
            "dtypes: object(5)\n",
            "memory usage: 217.8+ KB\n"
          ]
        }
      ]
    },
    {
      "cell_type": "code",
      "source": [
        "df.head()"
      ],
      "metadata": {
        "colab": {
          "base_uri": "https://localhost:8080/",
          "height": 206
        },
        "id": "l_s6VazT9I2F",
        "outputId": "a40cc910-3d91-48f4-cdd7-60fd96d2067e"
      },
      "execution_count": 11,
      "outputs": [
        {
          "output_type": "execute_result",
          "data": {
            "text/plain": [
              "     v1                                                 v2 Unnamed: 2  \\\n",
              "0   ham  Go until jurong point, crazy.. Available only ...        NaN   \n",
              "1   ham                      Ok lar... Joking wif u oni...        NaN   \n",
              "2  spam  Free entry in 2 a wkly comp to win FA Cup fina...        NaN   \n",
              "3   ham  U dun say so early hor... U c already then say...        NaN   \n",
              "4   ham  Nah I don't think he goes to usf, he lives aro...        NaN   \n",
              "\n",
              "  Unnamed: 3 Unnamed: 4  \n",
              "0        NaN        NaN  \n",
              "1        NaN        NaN  \n",
              "2        NaN        NaN  \n",
              "3        NaN        NaN  \n",
              "4        NaN        NaN  "
            ],
            "text/html": [
              "\n",
              "  <div id=\"df-b3a75bcf-0940-4d11-ab1c-5397a9771533\" class=\"colab-df-container\">\n",
              "    <div>\n",
              "<style scoped>\n",
              "    .dataframe tbody tr th:only-of-type {\n",
              "        vertical-align: middle;\n",
              "    }\n",
              "\n",
              "    .dataframe tbody tr th {\n",
              "        vertical-align: top;\n",
              "    }\n",
              "\n",
              "    .dataframe thead th {\n",
              "        text-align: right;\n",
              "    }\n",
              "</style>\n",
              "<table border=\"1\" class=\"dataframe\">\n",
              "  <thead>\n",
              "    <tr style=\"text-align: right;\">\n",
              "      <th></th>\n",
              "      <th>v1</th>\n",
              "      <th>v2</th>\n",
              "      <th>Unnamed: 2</th>\n",
              "      <th>Unnamed: 3</th>\n",
              "      <th>Unnamed: 4</th>\n",
              "    </tr>\n",
              "  </thead>\n",
              "  <tbody>\n",
              "    <tr>\n",
              "      <th>0</th>\n",
              "      <td>ham</td>\n",
              "      <td>Go until jurong point, crazy.. Available only ...</td>\n",
              "      <td>NaN</td>\n",
              "      <td>NaN</td>\n",
              "      <td>NaN</td>\n",
              "    </tr>\n",
              "    <tr>\n",
              "      <th>1</th>\n",
              "      <td>ham</td>\n",
              "      <td>Ok lar... Joking wif u oni...</td>\n",
              "      <td>NaN</td>\n",
              "      <td>NaN</td>\n",
              "      <td>NaN</td>\n",
              "    </tr>\n",
              "    <tr>\n",
              "      <th>2</th>\n",
              "      <td>spam</td>\n",
              "      <td>Free entry in 2 a wkly comp to win FA Cup fina...</td>\n",
              "      <td>NaN</td>\n",
              "      <td>NaN</td>\n",
              "      <td>NaN</td>\n",
              "    </tr>\n",
              "    <tr>\n",
              "      <th>3</th>\n",
              "      <td>ham</td>\n",
              "      <td>U dun say so early hor... U c already then say...</td>\n",
              "      <td>NaN</td>\n",
              "      <td>NaN</td>\n",
              "      <td>NaN</td>\n",
              "    </tr>\n",
              "    <tr>\n",
              "      <th>4</th>\n",
              "      <td>ham</td>\n",
              "      <td>Nah I don't think he goes to usf, he lives aro...</td>\n",
              "      <td>NaN</td>\n",
              "      <td>NaN</td>\n",
              "      <td>NaN</td>\n",
              "    </tr>\n",
              "  </tbody>\n",
              "</table>\n",
              "</div>\n",
              "    <div class=\"colab-df-buttons\">\n",
              "\n",
              "  <div class=\"colab-df-container\">\n",
              "    <button class=\"colab-df-convert\" onclick=\"convertToInteractive('df-b3a75bcf-0940-4d11-ab1c-5397a9771533')\"\n",
              "            title=\"Convert this dataframe to an interactive table.\"\n",
              "            style=\"display:none;\">\n",
              "\n",
              "  <svg xmlns=\"http://www.w3.org/2000/svg\" height=\"24px\" viewBox=\"0 -960 960 960\">\n",
              "    <path d=\"M120-120v-720h720v720H120Zm60-500h600v-160H180v160Zm220 220h160v-160H400v160Zm0 220h160v-160H400v160ZM180-400h160v-160H180v160Zm440 0h160v-160H620v160ZM180-180h160v-160H180v160Zm440 0h160v-160H620v160Z\"/>\n",
              "  </svg>\n",
              "    </button>\n",
              "\n",
              "  <style>\n",
              "    .colab-df-container {\n",
              "      display:flex;\n",
              "      gap: 12px;\n",
              "    }\n",
              "\n",
              "    .colab-df-convert {\n",
              "      background-color: #E8F0FE;\n",
              "      border: none;\n",
              "      border-radius: 50%;\n",
              "      cursor: pointer;\n",
              "      display: none;\n",
              "      fill: #1967D2;\n",
              "      height: 32px;\n",
              "      padding: 0 0 0 0;\n",
              "      width: 32px;\n",
              "    }\n",
              "\n",
              "    .colab-df-convert:hover {\n",
              "      background-color: #E2EBFA;\n",
              "      box-shadow: 0px 1px 2px rgba(60, 64, 67, 0.3), 0px 1px 3px 1px rgba(60, 64, 67, 0.15);\n",
              "      fill: #174EA6;\n",
              "    }\n",
              "\n",
              "    .colab-df-buttons div {\n",
              "      margin-bottom: 4px;\n",
              "    }\n",
              "\n",
              "    [theme=dark] .colab-df-convert {\n",
              "      background-color: #3B4455;\n",
              "      fill: #D2E3FC;\n",
              "    }\n",
              "\n",
              "    [theme=dark] .colab-df-convert:hover {\n",
              "      background-color: #434B5C;\n",
              "      box-shadow: 0px 1px 3px 1px rgba(0, 0, 0, 0.15);\n",
              "      filter: drop-shadow(0px 1px 2px rgba(0, 0, 0, 0.3));\n",
              "      fill: #FFFFFF;\n",
              "    }\n",
              "  </style>\n",
              "\n",
              "    <script>\n",
              "      const buttonEl =\n",
              "        document.querySelector('#df-b3a75bcf-0940-4d11-ab1c-5397a9771533 button.colab-df-convert');\n",
              "      buttonEl.style.display =\n",
              "        google.colab.kernel.accessAllowed ? 'block' : 'none';\n",
              "\n",
              "      async function convertToInteractive(key) {\n",
              "        const element = document.querySelector('#df-b3a75bcf-0940-4d11-ab1c-5397a9771533');\n",
              "        const dataTable =\n",
              "          await google.colab.kernel.invokeFunction('convertToInteractive',\n",
              "                                                    [key], {});\n",
              "        if (!dataTable) return;\n",
              "\n",
              "        const docLinkHtml = 'Like what you see? Visit the ' +\n",
              "          '<a target=\"_blank\" href=https://colab.research.google.com/notebooks/data_table.ipynb>data table notebook</a>'\n",
              "          + ' to learn more about interactive tables.';\n",
              "        element.innerHTML = '';\n",
              "        dataTable['output_type'] = 'display_data';\n",
              "        await google.colab.output.renderOutput(dataTable, element);\n",
              "        const docLink = document.createElement('div');\n",
              "        docLink.innerHTML = docLinkHtml;\n",
              "        element.appendChild(docLink);\n",
              "      }\n",
              "    </script>\n",
              "  </div>\n",
              "\n",
              "\n",
              "<div id=\"df-d7c4bd2d-849e-4ad3-a1fa-c0c8d4885eb4\">\n",
              "  <button class=\"colab-df-quickchart\" onclick=\"quickchart('df-d7c4bd2d-849e-4ad3-a1fa-c0c8d4885eb4')\"\n",
              "            title=\"Suggest charts.\"\n",
              "            style=\"display:none;\">\n",
              "\n",
              "<svg xmlns=\"http://www.w3.org/2000/svg\" height=\"24px\"viewBox=\"0 0 24 24\"\n",
              "     width=\"24px\">\n",
              "    <g>\n",
              "        <path d=\"M19 3H5c-1.1 0-2 .9-2 2v14c0 1.1.9 2 2 2h14c1.1 0 2-.9 2-2V5c0-1.1-.9-2-2-2zM9 17H7v-7h2v7zm4 0h-2V7h2v10zm4 0h-2v-4h2v4z\"/>\n",
              "    </g>\n",
              "</svg>\n",
              "  </button>\n",
              "\n",
              "<style>\n",
              "  .colab-df-quickchart {\n",
              "      --bg-color: #E8F0FE;\n",
              "      --fill-color: #1967D2;\n",
              "      --hover-bg-color: #E2EBFA;\n",
              "      --hover-fill-color: #174EA6;\n",
              "      --disabled-fill-color: #AAA;\n",
              "      --disabled-bg-color: #DDD;\n",
              "  }\n",
              "\n",
              "  [theme=dark] .colab-df-quickchart {\n",
              "      --bg-color: #3B4455;\n",
              "      --fill-color: #D2E3FC;\n",
              "      --hover-bg-color: #434B5C;\n",
              "      --hover-fill-color: #FFFFFF;\n",
              "      --disabled-bg-color: #3B4455;\n",
              "      --disabled-fill-color: #666;\n",
              "  }\n",
              "\n",
              "  .colab-df-quickchart {\n",
              "    background-color: var(--bg-color);\n",
              "    border: none;\n",
              "    border-radius: 50%;\n",
              "    cursor: pointer;\n",
              "    display: none;\n",
              "    fill: var(--fill-color);\n",
              "    height: 32px;\n",
              "    padding: 0;\n",
              "    width: 32px;\n",
              "  }\n",
              "\n",
              "  .colab-df-quickchart:hover {\n",
              "    background-color: var(--hover-bg-color);\n",
              "    box-shadow: 0 1px 2px rgba(60, 64, 67, 0.3), 0 1px 3px 1px rgba(60, 64, 67, 0.15);\n",
              "    fill: var(--button-hover-fill-color);\n",
              "  }\n",
              "\n",
              "  .colab-df-quickchart-complete:disabled,\n",
              "  .colab-df-quickchart-complete:disabled:hover {\n",
              "    background-color: var(--disabled-bg-color);\n",
              "    fill: var(--disabled-fill-color);\n",
              "    box-shadow: none;\n",
              "  }\n",
              "\n",
              "  .colab-df-spinner {\n",
              "    border: 2px solid var(--fill-color);\n",
              "    border-color: transparent;\n",
              "    border-bottom-color: var(--fill-color);\n",
              "    animation:\n",
              "      spin 1s steps(1) infinite;\n",
              "  }\n",
              "\n",
              "  @keyframes spin {\n",
              "    0% {\n",
              "      border-color: transparent;\n",
              "      border-bottom-color: var(--fill-color);\n",
              "      border-left-color: var(--fill-color);\n",
              "    }\n",
              "    20% {\n",
              "      border-color: transparent;\n",
              "      border-left-color: var(--fill-color);\n",
              "      border-top-color: var(--fill-color);\n",
              "    }\n",
              "    30% {\n",
              "      border-color: transparent;\n",
              "      border-left-color: var(--fill-color);\n",
              "      border-top-color: var(--fill-color);\n",
              "      border-right-color: var(--fill-color);\n",
              "    }\n",
              "    40% {\n",
              "      border-color: transparent;\n",
              "      border-right-color: var(--fill-color);\n",
              "      border-top-color: var(--fill-color);\n",
              "    }\n",
              "    60% {\n",
              "      border-color: transparent;\n",
              "      border-right-color: var(--fill-color);\n",
              "    }\n",
              "    80% {\n",
              "      border-color: transparent;\n",
              "      border-right-color: var(--fill-color);\n",
              "      border-bottom-color: var(--fill-color);\n",
              "    }\n",
              "    90% {\n",
              "      border-color: transparent;\n",
              "      border-bottom-color: var(--fill-color);\n",
              "    }\n",
              "  }\n",
              "</style>\n",
              "\n",
              "  <script>\n",
              "    async function quickchart(key) {\n",
              "      const quickchartButtonEl =\n",
              "        document.querySelector('#' + key + ' button');\n",
              "      quickchartButtonEl.disabled = true;  // To prevent multiple clicks.\n",
              "      quickchartButtonEl.classList.add('colab-df-spinner');\n",
              "      try {\n",
              "        const charts = await google.colab.kernel.invokeFunction(\n",
              "            'suggestCharts', [key], {});\n",
              "      } catch (error) {\n",
              "        console.error('Error during call to suggestCharts:', error);\n",
              "      }\n",
              "      quickchartButtonEl.classList.remove('colab-df-spinner');\n",
              "      quickchartButtonEl.classList.add('colab-df-quickchart-complete');\n",
              "    }\n",
              "    (() => {\n",
              "      let quickchartButtonEl =\n",
              "        document.querySelector('#df-d7c4bd2d-849e-4ad3-a1fa-c0c8d4885eb4 button');\n",
              "      quickchartButtonEl.style.display =\n",
              "        google.colab.kernel.accessAllowed ? 'block' : 'none';\n",
              "    })();\n",
              "  </script>\n",
              "</div>\n",
              "    </div>\n",
              "  </div>\n"
            ]
          },
          "metadata": {},
          "execution_count": 11
        }
      ]
    },
    {
      "cell_type": "code",
      "source": [
        "df.tail()"
      ],
      "metadata": {
        "colab": {
          "base_uri": "https://localhost:8080/",
          "height": 206
        },
        "id": "JooSLh-0DyKa",
        "outputId": "315e86ad-49de-4603-a079-ff1335e7d0bd"
      },
      "execution_count": 12,
      "outputs": [
        {
          "output_type": "execute_result",
          "data": {
            "text/plain": [
              "        v1                                                 v2 Unnamed: 2  \\\n",
              "5567  spam  This is the 2nd time we have tried 2 contact u...        NaN   \n",
              "5568   ham              Will Ì_ b going to esplanade fr home?        NaN   \n",
              "5569   ham  Pity, * was in mood for that. So...any other s...        NaN   \n",
              "5570   ham  The guy did some bitching but I acted like i'd...        NaN   \n",
              "5571   ham                         Rofl. Its true to its name        NaN   \n",
              "\n",
              "     Unnamed: 3 Unnamed: 4  \n",
              "5567        NaN        NaN  \n",
              "5568        NaN        NaN  \n",
              "5569        NaN        NaN  \n",
              "5570        NaN        NaN  \n",
              "5571        NaN        NaN  "
            ],
            "text/html": [
              "\n",
              "  <div id=\"df-504f1c85-762c-42af-8acb-269bcda772fe\" class=\"colab-df-container\">\n",
              "    <div>\n",
              "<style scoped>\n",
              "    .dataframe tbody tr th:only-of-type {\n",
              "        vertical-align: middle;\n",
              "    }\n",
              "\n",
              "    .dataframe tbody tr th {\n",
              "        vertical-align: top;\n",
              "    }\n",
              "\n",
              "    .dataframe thead th {\n",
              "        text-align: right;\n",
              "    }\n",
              "</style>\n",
              "<table border=\"1\" class=\"dataframe\">\n",
              "  <thead>\n",
              "    <tr style=\"text-align: right;\">\n",
              "      <th></th>\n",
              "      <th>v1</th>\n",
              "      <th>v2</th>\n",
              "      <th>Unnamed: 2</th>\n",
              "      <th>Unnamed: 3</th>\n",
              "      <th>Unnamed: 4</th>\n",
              "    </tr>\n",
              "  </thead>\n",
              "  <tbody>\n",
              "    <tr>\n",
              "      <th>5567</th>\n",
              "      <td>spam</td>\n",
              "      <td>This is the 2nd time we have tried 2 contact u...</td>\n",
              "      <td>NaN</td>\n",
              "      <td>NaN</td>\n",
              "      <td>NaN</td>\n",
              "    </tr>\n",
              "    <tr>\n",
              "      <th>5568</th>\n",
              "      <td>ham</td>\n",
              "      <td>Will Ì_ b going to esplanade fr home?</td>\n",
              "      <td>NaN</td>\n",
              "      <td>NaN</td>\n",
              "      <td>NaN</td>\n",
              "    </tr>\n",
              "    <tr>\n",
              "      <th>5569</th>\n",
              "      <td>ham</td>\n",
              "      <td>Pity, * was in mood for that. So...any other s...</td>\n",
              "      <td>NaN</td>\n",
              "      <td>NaN</td>\n",
              "      <td>NaN</td>\n",
              "    </tr>\n",
              "    <tr>\n",
              "      <th>5570</th>\n",
              "      <td>ham</td>\n",
              "      <td>The guy did some bitching but I acted like i'd...</td>\n",
              "      <td>NaN</td>\n",
              "      <td>NaN</td>\n",
              "      <td>NaN</td>\n",
              "    </tr>\n",
              "    <tr>\n",
              "      <th>5571</th>\n",
              "      <td>ham</td>\n",
              "      <td>Rofl. Its true to its name</td>\n",
              "      <td>NaN</td>\n",
              "      <td>NaN</td>\n",
              "      <td>NaN</td>\n",
              "    </tr>\n",
              "  </tbody>\n",
              "</table>\n",
              "</div>\n",
              "    <div class=\"colab-df-buttons\">\n",
              "\n",
              "  <div class=\"colab-df-container\">\n",
              "    <button class=\"colab-df-convert\" onclick=\"convertToInteractive('df-504f1c85-762c-42af-8acb-269bcda772fe')\"\n",
              "            title=\"Convert this dataframe to an interactive table.\"\n",
              "            style=\"display:none;\">\n",
              "\n",
              "  <svg xmlns=\"http://www.w3.org/2000/svg\" height=\"24px\" viewBox=\"0 -960 960 960\">\n",
              "    <path d=\"M120-120v-720h720v720H120Zm60-500h600v-160H180v160Zm220 220h160v-160H400v160Zm0 220h160v-160H400v160ZM180-400h160v-160H180v160Zm440 0h160v-160H620v160ZM180-180h160v-160H180v160Zm440 0h160v-160H620v160Z\"/>\n",
              "  </svg>\n",
              "    </button>\n",
              "\n",
              "  <style>\n",
              "    .colab-df-container {\n",
              "      display:flex;\n",
              "      gap: 12px;\n",
              "    }\n",
              "\n",
              "    .colab-df-convert {\n",
              "      background-color: #E8F0FE;\n",
              "      border: none;\n",
              "      border-radius: 50%;\n",
              "      cursor: pointer;\n",
              "      display: none;\n",
              "      fill: #1967D2;\n",
              "      height: 32px;\n",
              "      padding: 0 0 0 0;\n",
              "      width: 32px;\n",
              "    }\n",
              "\n",
              "    .colab-df-convert:hover {\n",
              "      background-color: #E2EBFA;\n",
              "      box-shadow: 0px 1px 2px rgba(60, 64, 67, 0.3), 0px 1px 3px 1px rgba(60, 64, 67, 0.15);\n",
              "      fill: #174EA6;\n",
              "    }\n",
              "\n",
              "    .colab-df-buttons div {\n",
              "      margin-bottom: 4px;\n",
              "    }\n",
              "\n",
              "    [theme=dark] .colab-df-convert {\n",
              "      background-color: #3B4455;\n",
              "      fill: #D2E3FC;\n",
              "    }\n",
              "\n",
              "    [theme=dark] .colab-df-convert:hover {\n",
              "      background-color: #434B5C;\n",
              "      box-shadow: 0px 1px 3px 1px rgba(0, 0, 0, 0.15);\n",
              "      filter: drop-shadow(0px 1px 2px rgba(0, 0, 0, 0.3));\n",
              "      fill: #FFFFFF;\n",
              "    }\n",
              "  </style>\n",
              "\n",
              "    <script>\n",
              "      const buttonEl =\n",
              "        document.querySelector('#df-504f1c85-762c-42af-8acb-269bcda772fe button.colab-df-convert');\n",
              "      buttonEl.style.display =\n",
              "        google.colab.kernel.accessAllowed ? 'block' : 'none';\n",
              "\n",
              "      async function convertToInteractive(key) {\n",
              "        const element = document.querySelector('#df-504f1c85-762c-42af-8acb-269bcda772fe');\n",
              "        const dataTable =\n",
              "          await google.colab.kernel.invokeFunction('convertToInteractive',\n",
              "                                                    [key], {});\n",
              "        if (!dataTable) return;\n",
              "\n",
              "        const docLinkHtml = 'Like what you see? Visit the ' +\n",
              "          '<a target=\"_blank\" href=https://colab.research.google.com/notebooks/data_table.ipynb>data table notebook</a>'\n",
              "          + ' to learn more about interactive tables.';\n",
              "        element.innerHTML = '';\n",
              "        dataTable['output_type'] = 'display_data';\n",
              "        await google.colab.output.renderOutput(dataTable, element);\n",
              "        const docLink = document.createElement('div');\n",
              "        docLink.innerHTML = docLinkHtml;\n",
              "        element.appendChild(docLink);\n",
              "      }\n",
              "    </script>\n",
              "  </div>\n",
              "\n",
              "\n",
              "<div id=\"df-c0b92f5f-93ed-4c83-8efd-879c772bce95\">\n",
              "  <button class=\"colab-df-quickchart\" onclick=\"quickchart('df-c0b92f5f-93ed-4c83-8efd-879c772bce95')\"\n",
              "            title=\"Suggest charts.\"\n",
              "            style=\"display:none;\">\n",
              "\n",
              "<svg xmlns=\"http://www.w3.org/2000/svg\" height=\"24px\"viewBox=\"0 0 24 24\"\n",
              "     width=\"24px\">\n",
              "    <g>\n",
              "        <path d=\"M19 3H5c-1.1 0-2 .9-2 2v14c0 1.1.9 2 2 2h14c1.1 0 2-.9 2-2V5c0-1.1-.9-2-2-2zM9 17H7v-7h2v7zm4 0h-2V7h2v10zm4 0h-2v-4h2v4z\"/>\n",
              "    </g>\n",
              "</svg>\n",
              "  </button>\n",
              "\n",
              "<style>\n",
              "  .colab-df-quickchart {\n",
              "      --bg-color: #E8F0FE;\n",
              "      --fill-color: #1967D2;\n",
              "      --hover-bg-color: #E2EBFA;\n",
              "      --hover-fill-color: #174EA6;\n",
              "      --disabled-fill-color: #AAA;\n",
              "      --disabled-bg-color: #DDD;\n",
              "  }\n",
              "\n",
              "  [theme=dark] .colab-df-quickchart {\n",
              "      --bg-color: #3B4455;\n",
              "      --fill-color: #D2E3FC;\n",
              "      --hover-bg-color: #434B5C;\n",
              "      --hover-fill-color: #FFFFFF;\n",
              "      --disabled-bg-color: #3B4455;\n",
              "      --disabled-fill-color: #666;\n",
              "  }\n",
              "\n",
              "  .colab-df-quickchart {\n",
              "    background-color: var(--bg-color);\n",
              "    border: none;\n",
              "    border-radius: 50%;\n",
              "    cursor: pointer;\n",
              "    display: none;\n",
              "    fill: var(--fill-color);\n",
              "    height: 32px;\n",
              "    padding: 0;\n",
              "    width: 32px;\n",
              "  }\n",
              "\n",
              "  .colab-df-quickchart:hover {\n",
              "    background-color: var(--hover-bg-color);\n",
              "    box-shadow: 0 1px 2px rgba(60, 64, 67, 0.3), 0 1px 3px 1px rgba(60, 64, 67, 0.15);\n",
              "    fill: var(--button-hover-fill-color);\n",
              "  }\n",
              "\n",
              "  .colab-df-quickchart-complete:disabled,\n",
              "  .colab-df-quickchart-complete:disabled:hover {\n",
              "    background-color: var(--disabled-bg-color);\n",
              "    fill: var(--disabled-fill-color);\n",
              "    box-shadow: none;\n",
              "  }\n",
              "\n",
              "  .colab-df-spinner {\n",
              "    border: 2px solid var(--fill-color);\n",
              "    border-color: transparent;\n",
              "    border-bottom-color: var(--fill-color);\n",
              "    animation:\n",
              "      spin 1s steps(1) infinite;\n",
              "  }\n",
              "\n",
              "  @keyframes spin {\n",
              "    0% {\n",
              "      border-color: transparent;\n",
              "      border-bottom-color: var(--fill-color);\n",
              "      border-left-color: var(--fill-color);\n",
              "    }\n",
              "    20% {\n",
              "      border-color: transparent;\n",
              "      border-left-color: var(--fill-color);\n",
              "      border-top-color: var(--fill-color);\n",
              "    }\n",
              "    30% {\n",
              "      border-color: transparent;\n",
              "      border-left-color: var(--fill-color);\n",
              "      border-top-color: var(--fill-color);\n",
              "      border-right-color: var(--fill-color);\n",
              "    }\n",
              "    40% {\n",
              "      border-color: transparent;\n",
              "      border-right-color: var(--fill-color);\n",
              "      border-top-color: var(--fill-color);\n",
              "    }\n",
              "    60% {\n",
              "      border-color: transparent;\n",
              "      border-right-color: var(--fill-color);\n",
              "    }\n",
              "    80% {\n",
              "      border-color: transparent;\n",
              "      border-right-color: var(--fill-color);\n",
              "      border-bottom-color: var(--fill-color);\n",
              "    }\n",
              "    90% {\n",
              "      border-color: transparent;\n",
              "      border-bottom-color: var(--fill-color);\n",
              "    }\n",
              "  }\n",
              "</style>\n",
              "\n",
              "  <script>\n",
              "    async function quickchart(key) {\n",
              "      const quickchartButtonEl =\n",
              "        document.querySelector('#' + key + ' button');\n",
              "      quickchartButtonEl.disabled = true;  // To prevent multiple clicks.\n",
              "      quickchartButtonEl.classList.add('colab-df-spinner');\n",
              "      try {\n",
              "        const charts = await google.colab.kernel.invokeFunction(\n",
              "            'suggestCharts', [key], {});\n",
              "      } catch (error) {\n",
              "        console.error('Error during call to suggestCharts:', error);\n",
              "      }\n",
              "      quickchartButtonEl.classList.remove('colab-df-spinner');\n",
              "      quickchartButtonEl.classList.add('colab-df-quickchart-complete');\n",
              "    }\n",
              "    (() => {\n",
              "      let quickchartButtonEl =\n",
              "        document.querySelector('#df-c0b92f5f-93ed-4c83-8efd-879c772bce95 button');\n",
              "      quickchartButtonEl.style.display =\n",
              "        google.colab.kernel.accessAllowed ? 'block' : 'none';\n",
              "    })();\n",
              "  </script>\n",
              "</div>\n",
              "    </div>\n",
              "  </div>\n"
            ]
          },
          "metadata": {},
          "execution_count": 12
        }
      ]
    },
    {
      "cell_type": "code",
      "source": [
        "df.shape"
      ],
      "metadata": {
        "colab": {
          "base_uri": "https://localhost:8080/"
        },
        "id": "ctmhLNleAVYK",
        "outputId": "80302e8d-de86-4250-b9ac-921c35b7ee19"
      },
      "execution_count": 13,
      "outputs": [
        {
          "output_type": "execute_result",
          "data": {
            "text/plain": [
              "(5572, 5)"
            ]
          },
          "metadata": {},
          "execution_count": 13
        }
      ]
    },
    {
      "cell_type": "code",
      "source": [
        "df.describe()"
      ],
      "metadata": {
        "colab": {
          "base_uri": "https://localhost:8080/",
          "height": 175
        },
        "id": "5Tc9EOYSD56s",
        "outputId": "6da84200-e91e-46df-b5e8-d66feff39495"
      },
      "execution_count": 14,
      "outputs": [
        {
          "output_type": "execute_result",
          "data": {
            "text/plain": [
              "          v1                      v2  \\\n",
              "count   5572                    5572   \n",
              "unique     2                    5169   \n",
              "top      ham  Sorry, I'll call later   \n",
              "freq    4825                      30   \n",
              "\n",
              "                                               Unnamed: 2  \\\n",
              "count                                                  50   \n",
              "unique                                                 43   \n",
              "top      bt not his girlfrnd... G o o d n i g h t . . .@\"   \n",
              "freq                                                    3   \n",
              "\n",
              "                   Unnamed: 3 Unnamed: 4  \n",
              "count                      12          6  \n",
              "unique                     10          5  \n",
              "top      MK17 92H. 450Ppw 16\"    GNT:-)\"  \n",
              "freq                        2          2  "
            ],
            "text/html": [
              "\n",
              "  <div id=\"df-d5b7320f-86b7-4c6f-a02c-5b08c378f57e\" class=\"colab-df-container\">\n",
              "    <div>\n",
              "<style scoped>\n",
              "    .dataframe tbody tr th:only-of-type {\n",
              "        vertical-align: middle;\n",
              "    }\n",
              "\n",
              "    .dataframe tbody tr th {\n",
              "        vertical-align: top;\n",
              "    }\n",
              "\n",
              "    .dataframe thead th {\n",
              "        text-align: right;\n",
              "    }\n",
              "</style>\n",
              "<table border=\"1\" class=\"dataframe\">\n",
              "  <thead>\n",
              "    <tr style=\"text-align: right;\">\n",
              "      <th></th>\n",
              "      <th>v1</th>\n",
              "      <th>v2</th>\n",
              "      <th>Unnamed: 2</th>\n",
              "      <th>Unnamed: 3</th>\n",
              "      <th>Unnamed: 4</th>\n",
              "    </tr>\n",
              "  </thead>\n",
              "  <tbody>\n",
              "    <tr>\n",
              "      <th>count</th>\n",
              "      <td>5572</td>\n",
              "      <td>5572</td>\n",
              "      <td>50</td>\n",
              "      <td>12</td>\n",
              "      <td>6</td>\n",
              "    </tr>\n",
              "    <tr>\n",
              "      <th>unique</th>\n",
              "      <td>2</td>\n",
              "      <td>5169</td>\n",
              "      <td>43</td>\n",
              "      <td>10</td>\n",
              "      <td>5</td>\n",
              "    </tr>\n",
              "    <tr>\n",
              "      <th>top</th>\n",
              "      <td>ham</td>\n",
              "      <td>Sorry, I'll call later</td>\n",
              "      <td>bt not his girlfrnd... G o o d n i g h t . . .@\"</td>\n",
              "      <td>MK17 92H. 450Ppw 16\"</td>\n",
              "      <td>GNT:-)\"</td>\n",
              "    </tr>\n",
              "    <tr>\n",
              "      <th>freq</th>\n",
              "      <td>4825</td>\n",
              "      <td>30</td>\n",
              "      <td>3</td>\n",
              "      <td>2</td>\n",
              "      <td>2</td>\n",
              "    </tr>\n",
              "  </tbody>\n",
              "</table>\n",
              "</div>\n",
              "    <div class=\"colab-df-buttons\">\n",
              "\n",
              "  <div class=\"colab-df-container\">\n",
              "    <button class=\"colab-df-convert\" onclick=\"convertToInteractive('df-d5b7320f-86b7-4c6f-a02c-5b08c378f57e')\"\n",
              "            title=\"Convert this dataframe to an interactive table.\"\n",
              "            style=\"display:none;\">\n",
              "\n",
              "  <svg xmlns=\"http://www.w3.org/2000/svg\" height=\"24px\" viewBox=\"0 -960 960 960\">\n",
              "    <path d=\"M120-120v-720h720v720H120Zm60-500h600v-160H180v160Zm220 220h160v-160H400v160Zm0 220h160v-160H400v160ZM180-400h160v-160H180v160Zm440 0h160v-160H620v160ZM180-180h160v-160H180v160Zm440 0h160v-160H620v160Z\"/>\n",
              "  </svg>\n",
              "    </button>\n",
              "\n",
              "  <style>\n",
              "    .colab-df-container {\n",
              "      display:flex;\n",
              "      gap: 12px;\n",
              "    }\n",
              "\n",
              "    .colab-df-convert {\n",
              "      background-color: #E8F0FE;\n",
              "      border: none;\n",
              "      border-radius: 50%;\n",
              "      cursor: pointer;\n",
              "      display: none;\n",
              "      fill: #1967D2;\n",
              "      height: 32px;\n",
              "      padding: 0 0 0 0;\n",
              "      width: 32px;\n",
              "    }\n",
              "\n",
              "    .colab-df-convert:hover {\n",
              "      background-color: #E2EBFA;\n",
              "      box-shadow: 0px 1px 2px rgba(60, 64, 67, 0.3), 0px 1px 3px 1px rgba(60, 64, 67, 0.15);\n",
              "      fill: #174EA6;\n",
              "    }\n",
              "\n",
              "    .colab-df-buttons div {\n",
              "      margin-bottom: 4px;\n",
              "    }\n",
              "\n",
              "    [theme=dark] .colab-df-convert {\n",
              "      background-color: #3B4455;\n",
              "      fill: #D2E3FC;\n",
              "    }\n",
              "\n",
              "    [theme=dark] .colab-df-convert:hover {\n",
              "      background-color: #434B5C;\n",
              "      box-shadow: 0px 1px 3px 1px rgba(0, 0, 0, 0.15);\n",
              "      filter: drop-shadow(0px 1px 2px rgba(0, 0, 0, 0.3));\n",
              "      fill: #FFFFFF;\n",
              "    }\n",
              "  </style>\n",
              "\n",
              "    <script>\n",
              "      const buttonEl =\n",
              "        document.querySelector('#df-d5b7320f-86b7-4c6f-a02c-5b08c378f57e button.colab-df-convert');\n",
              "      buttonEl.style.display =\n",
              "        google.colab.kernel.accessAllowed ? 'block' : 'none';\n",
              "\n",
              "      async function convertToInteractive(key) {\n",
              "        const element = document.querySelector('#df-d5b7320f-86b7-4c6f-a02c-5b08c378f57e');\n",
              "        const dataTable =\n",
              "          await google.colab.kernel.invokeFunction('convertToInteractive',\n",
              "                                                    [key], {});\n",
              "        if (!dataTable) return;\n",
              "\n",
              "        const docLinkHtml = 'Like what you see? Visit the ' +\n",
              "          '<a target=\"_blank\" href=https://colab.research.google.com/notebooks/data_table.ipynb>data table notebook</a>'\n",
              "          + ' to learn more about interactive tables.';\n",
              "        element.innerHTML = '';\n",
              "        dataTable['output_type'] = 'display_data';\n",
              "        await google.colab.output.renderOutput(dataTable, element);\n",
              "        const docLink = document.createElement('div');\n",
              "        docLink.innerHTML = docLinkHtml;\n",
              "        element.appendChild(docLink);\n",
              "      }\n",
              "    </script>\n",
              "  </div>\n",
              "\n",
              "\n",
              "<div id=\"df-ed664391-0a47-4a3d-b484-64765c901501\">\n",
              "  <button class=\"colab-df-quickchart\" onclick=\"quickchart('df-ed664391-0a47-4a3d-b484-64765c901501')\"\n",
              "            title=\"Suggest charts.\"\n",
              "            style=\"display:none;\">\n",
              "\n",
              "<svg xmlns=\"http://www.w3.org/2000/svg\" height=\"24px\"viewBox=\"0 0 24 24\"\n",
              "     width=\"24px\">\n",
              "    <g>\n",
              "        <path d=\"M19 3H5c-1.1 0-2 .9-2 2v14c0 1.1.9 2 2 2h14c1.1 0 2-.9 2-2V5c0-1.1-.9-2-2-2zM9 17H7v-7h2v7zm4 0h-2V7h2v10zm4 0h-2v-4h2v4z\"/>\n",
              "    </g>\n",
              "</svg>\n",
              "  </button>\n",
              "\n",
              "<style>\n",
              "  .colab-df-quickchart {\n",
              "      --bg-color: #E8F0FE;\n",
              "      --fill-color: #1967D2;\n",
              "      --hover-bg-color: #E2EBFA;\n",
              "      --hover-fill-color: #174EA6;\n",
              "      --disabled-fill-color: #AAA;\n",
              "      --disabled-bg-color: #DDD;\n",
              "  }\n",
              "\n",
              "  [theme=dark] .colab-df-quickchart {\n",
              "      --bg-color: #3B4455;\n",
              "      --fill-color: #D2E3FC;\n",
              "      --hover-bg-color: #434B5C;\n",
              "      --hover-fill-color: #FFFFFF;\n",
              "      --disabled-bg-color: #3B4455;\n",
              "      --disabled-fill-color: #666;\n",
              "  }\n",
              "\n",
              "  .colab-df-quickchart {\n",
              "    background-color: var(--bg-color);\n",
              "    border: none;\n",
              "    border-radius: 50%;\n",
              "    cursor: pointer;\n",
              "    display: none;\n",
              "    fill: var(--fill-color);\n",
              "    height: 32px;\n",
              "    padding: 0;\n",
              "    width: 32px;\n",
              "  }\n",
              "\n",
              "  .colab-df-quickchart:hover {\n",
              "    background-color: var(--hover-bg-color);\n",
              "    box-shadow: 0 1px 2px rgba(60, 64, 67, 0.3), 0 1px 3px 1px rgba(60, 64, 67, 0.15);\n",
              "    fill: var(--button-hover-fill-color);\n",
              "  }\n",
              "\n",
              "  .colab-df-quickchart-complete:disabled,\n",
              "  .colab-df-quickchart-complete:disabled:hover {\n",
              "    background-color: var(--disabled-bg-color);\n",
              "    fill: var(--disabled-fill-color);\n",
              "    box-shadow: none;\n",
              "  }\n",
              "\n",
              "  .colab-df-spinner {\n",
              "    border: 2px solid var(--fill-color);\n",
              "    border-color: transparent;\n",
              "    border-bottom-color: var(--fill-color);\n",
              "    animation:\n",
              "      spin 1s steps(1) infinite;\n",
              "  }\n",
              "\n",
              "  @keyframes spin {\n",
              "    0% {\n",
              "      border-color: transparent;\n",
              "      border-bottom-color: var(--fill-color);\n",
              "      border-left-color: var(--fill-color);\n",
              "    }\n",
              "    20% {\n",
              "      border-color: transparent;\n",
              "      border-left-color: var(--fill-color);\n",
              "      border-top-color: var(--fill-color);\n",
              "    }\n",
              "    30% {\n",
              "      border-color: transparent;\n",
              "      border-left-color: var(--fill-color);\n",
              "      border-top-color: var(--fill-color);\n",
              "      border-right-color: var(--fill-color);\n",
              "    }\n",
              "    40% {\n",
              "      border-color: transparent;\n",
              "      border-right-color: var(--fill-color);\n",
              "      border-top-color: var(--fill-color);\n",
              "    }\n",
              "    60% {\n",
              "      border-color: transparent;\n",
              "      border-right-color: var(--fill-color);\n",
              "    }\n",
              "    80% {\n",
              "      border-color: transparent;\n",
              "      border-right-color: var(--fill-color);\n",
              "      border-bottom-color: var(--fill-color);\n",
              "    }\n",
              "    90% {\n",
              "      border-color: transparent;\n",
              "      border-bottom-color: var(--fill-color);\n",
              "    }\n",
              "  }\n",
              "</style>\n",
              "\n",
              "  <script>\n",
              "    async function quickchart(key) {\n",
              "      const quickchartButtonEl =\n",
              "        document.querySelector('#' + key + ' button');\n",
              "      quickchartButtonEl.disabled = true;  // To prevent multiple clicks.\n",
              "      quickchartButtonEl.classList.add('colab-df-spinner');\n",
              "      try {\n",
              "        const charts = await google.colab.kernel.invokeFunction(\n",
              "            'suggestCharts', [key], {});\n",
              "      } catch (error) {\n",
              "        console.error('Error during call to suggestCharts:', error);\n",
              "      }\n",
              "      quickchartButtonEl.classList.remove('colab-df-spinner');\n",
              "      quickchartButtonEl.classList.add('colab-df-quickchart-complete');\n",
              "    }\n",
              "    (() => {\n",
              "      let quickchartButtonEl =\n",
              "        document.querySelector('#df-ed664391-0a47-4a3d-b484-64765c901501 button');\n",
              "      quickchartButtonEl.style.display =\n",
              "        google.colab.kernel.accessAllowed ? 'block' : 'none';\n",
              "    })();\n",
              "  </script>\n",
              "</div>\n",
              "    </div>\n",
              "  </div>\n"
            ]
          },
          "metadata": {},
          "execution_count": 14
        }
      ]
    },
    {
      "cell_type": "code",
      "source": [
        "# missing values\n",
        "df.isnull().sum()"
      ],
      "metadata": {
        "colab": {
          "base_uri": "https://localhost:8080/"
        },
        "id": "QVEaYQkIEBDP",
        "outputId": "e7b5a2f1-68ee-4bb9-80e0-dbfb5923438a"
      },
      "execution_count": 15,
      "outputs": [
        {
          "output_type": "execute_result",
          "data": {
            "text/plain": [
              "v1               0\n",
              "v2               0\n",
              "Unnamed: 2    5522\n",
              "Unnamed: 3    5560\n",
              "Unnamed: 4    5566\n",
              "dtype: int64"
            ]
          },
          "metadata": {},
          "execution_count": 15
        }
      ]
    },
    {
      "cell_type": "markdown",
      "source": [
        "### **Data Cleaning**"
      ],
      "metadata": {
        "id": "o-6i7Gsb8xp8"
      }
    },
    {
      "cell_type": "code",
      "source": [
        "# Dropping the unnecessary columns\n",
        "df.drop(columns=['Unnamed: 2','Unnamed: 3','Unnamed: 4'],inplace=True)"
      ],
      "metadata": {
        "id": "0s8Tv9RO8sHx"
      },
      "execution_count": 16,
      "outputs": []
    },
    {
      "cell_type": "code",
      "source": [
        "df.head()"
      ],
      "metadata": {
        "colab": {
          "base_uri": "https://localhost:8080/",
          "height": 206
        },
        "id": "V9XVxd_Z9FrG",
        "outputId": "4409714c-a93e-43d3-dbb4-1ef0091cc346"
      },
      "execution_count": 17,
      "outputs": [
        {
          "output_type": "execute_result",
          "data": {
            "text/plain": [
              "     v1                                                 v2\n",
              "0   ham  Go until jurong point, crazy.. Available only ...\n",
              "1   ham                      Ok lar... Joking wif u oni...\n",
              "2  spam  Free entry in 2 a wkly comp to win FA Cup fina...\n",
              "3   ham  U dun say so early hor... U c already then say...\n",
              "4   ham  Nah I don't think he goes to usf, he lives aro..."
            ],
            "text/html": [
              "\n",
              "  <div id=\"df-bf88cc11-b0f7-4890-8bd8-1a3dffcb3dd9\" class=\"colab-df-container\">\n",
              "    <div>\n",
              "<style scoped>\n",
              "    .dataframe tbody tr th:only-of-type {\n",
              "        vertical-align: middle;\n",
              "    }\n",
              "\n",
              "    .dataframe tbody tr th {\n",
              "        vertical-align: top;\n",
              "    }\n",
              "\n",
              "    .dataframe thead th {\n",
              "        text-align: right;\n",
              "    }\n",
              "</style>\n",
              "<table border=\"1\" class=\"dataframe\">\n",
              "  <thead>\n",
              "    <tr style=\"text-align: right;\">\n",
              "      <th></th>\n",
              "      <th>v1</th>\n",
              "      <th>v2</th>\n",
              "    </tr>\n",
              "  </thead>\n",
              "  <tbody>\n",
              "    <tr>\n",
              "      <th>0</th>\n",
              "      <td>ham</td>\n",
              "      <td>Go until jurong point, crazy.. Available only ...</td>\n",
              "    </tr>\n",
              "    <tr>\n",
              "      <th>1</th>\n",
              "      <td>ham</td>\n",
              "      <td>Ok lar... Joking wif u oni...</td>\n",
              "    </tr>\n",
              "    <tr>\n",
              "      <th>2</th>\n",
              "      <td>spam</td>\n",
              "      <td>Free entry in 2 a wkly comp to win FA Cup fina...</td>\n",
              "    </tr>\n",
              "    <tr>\n",
              "      <th>3</th>\n",
              "      <td>ham</td>\n",
              "      <td>U dun say so early hor... U c already then say...</td>\n",
              "    </tr>\n",
              "    <tr>\n",
              "      <th>4</th>\n",
              "      <td>ham</td>\n",
              "      <td>Nah I don't think he goes to usf, he lives aro...</td>\n",
              "    </tr>\n",
              "  </tbody>\n",
              "</table>\n",
              "</div>\n",
              "    <div class=\"colab-df-buttons\">\n",
              "\n",
              "  <div class=\"colab-df-container\">\n",
              "    <button class=\"colab-df-convert\" onclick=\"convertToInteractive('df-bf88cc11-b0f7-4890-8bd8-1a3dffcb3dd9')\"\n",
              "            title=\"Convert this dataframe to an interactive table.\"\n",
              "            style=\"display:none;\">\n",
              "\n",
              "  <svg xmlns=\"http://www.w3.org/2000/svg\" height=\"24px\" viewBox=\"0 -960 960 960\">\n",
              "    <path d=\"M120-120v-720h720v720H120Zm60-500h600v-160H180v160Zm220 220h160v-160H400v160Zm0 220h160v-160H400v160ZM180-400h160v-160H180v160Zm440 0h160v-160H620v160ZM180-180h160v-160H180v160Zm440 0h160v-160H620v160Z\"/>\n",
              "  </svg>\n",
              "    </button>\n",
              "\n",
              "  <style>\n",
              "    .colab-df-container {\n",
              "      display:flex;\n",
              "      gap: 12px;\n",
              "    }\n",
              "\n",
              "    .colab-df-convert {\n",
              "      background-color: #E8F0FE;\n",
              "      border: none;\n",
              "      border-radius: 50%;\n",
              "      cursor: pointer;\n",
              "      display: none;\n",
              "      fill: #1967D2;\n",
              "      height: 32px;\n",
              "      padding: 0 0 0 0;\n",
              "      width: 32px;\n",
              "    }\n",
              "\n",
              "    .colab-df-convert:hover {\n",
              "      background-color: #E2EBFA;\n",
              "      box-shadow: 0px 1px 2px rgba(60, 64, 67, 0.3), 0px 1px 3px 1px rgba(60, 64, 67, 0.15);\n",
              "      fill: #174EA6;\n",
              "    }\n",
              "\n",
              "    .colab-df-buttons div {\n",
              "      margin-bottom: 4px;\n",
              "    }\n",
              "\n",
              "    [theme=dark] .colab-df-convert {\n",
              "      background-color: #3B4455;\n",
              "      fill: #D2E3FC;\n",
              "    }\n",
              "\n",
              "    [theme=dark] .colab-df-convert:hover {\n",
              "      background-color: #434B5C;\n",
              "      box-shadow: 0px 1px 3px 1px rgba(0, 0, 0, 0.15);\n",
              "      filter: drop-shadow(0px 1px 2px rgba(0, 0, 0, 0.3));\n",
              "      fill: #FFFFFF;\n",
              "    }\n",
              "  </style>\n",
              "\n",
              "    <script>\n",
              "      const buttonEl =\n",
              "        document.querySelector('#df-bf88cc11-b0f7-4890-8bd8-1a3dffcb3dd9 button.colab-df-convert');\n",
              "      buttonEl.style.display =\n",
              "        google.colab.kernel.accessAllowed ? 'block' : 'none';\n",
              "\n",
              "      async function convertToInteractive(key) {\n",
              "        const element = document.querySelector('#df-bf88cc11-b0f7-4890-8bd8-1a3dffcb3dd9');\n",
              "        const dataTable =\n",
              "          await google.colab.kernel.invokeFunction('convertToInteractive',\n",
              "                                                    [key], {});\n",
              "        if (!dataTable) return;\n",
              "\n",
              "        const docLinkHtml = 'Like what you see? Visit the ' +\n",
              "          '<a target=\"_blank\" href=https://colab.research.google.com/notebooks/data_table.ipynb>data table notebook</a>'\n",
              "          + ' to learn more about interactive tables.';\n",
              "        element.innerHTML = '';\n",
              "        dataTable['output_type'] = 'display_data';\n",
              "        await google.colab.output.renderOutput(dataTable, element);\n",
              "        const docLink = document.createElement('div');\n",
              "        docLink.innerHTML = docLinkHtml;\n",
              "        element.appendChild(docLink);\n",
              "      }\n",
              "    </script>\n",
              "  </div>\n",
              "\n",
              "\n",
              "<div id=\"df-3ad9dcec-3b7c-4763-82dd-d70ebaaa3c4a\">\n",
              "  <button class=\"colab-df-quickchart\" onclick=\"quickchart('df-3ad9dcec-3b7c-4763-82dd-d70ebaaa3c4a')\"\n",
              "            title=\"Suggest charts.\"\n",
              "            style=\"display:none;\">\n",
              "\n",
              "<svg xmlns=\"http://www.w3.org/2000/svg\" height=\"24px\"viewBox=\"0 0 24 24\"\n",
              "     width=\"24px\">\n",
              "    <g>\n",
              "        <path d=\"M19 3H5c-1.1 0-2 .9-2 2v14c0 1.1.9 2 2 2h14c1.1 0 2-.9 2-2V5c0-1.1-.9-2-2-2zM9 17H7v-7h2v7zm4 0h-2V7h2v10zm4 0h-2v-4h2v4z\"/>\n",
              "    </g>\n",
              "</svg>\n",
              "  </button>\n",
              "\n",
              "<style>\n",
              "  .colab-df-quickchart {\n",
              "      --bg-color: #E8F0FE;\n",
              "      --fill-color: #1967D2;\n",
              "      --hover-bg-color: #E2EBFA;\n",
              "      --hover-fill-color: #174EA6;\n",
              "      --disabled-fill-color: #AAA;\n",
              "      --disabled-bg-color: #DDD;\n",
              "  }\n",
              "\n",
              "  [theme=dark] .colab-df-quickchart {\n",
              "      --bg-color: #3B4455;\n",
              "      --fill-color: #D2E3FC;\n",
              "      --hover-bg-color: #434B5C;\n",
              "      --hover-fill-color: #FFFFFF;\n",
              "      --disabled-bg-color: #3B4455;\n",
              "      --disabled-fill-color: #666;\n",
              "  }\n",
              "\n",
              "  .colab-df-quickchart {\n",
              "    background-color: var(--bg-color);\n",
              "    border: none;\n",
              "    border-radius: 50%;\n",
              "    cursor: pointer;\n",
              "    display: none;\n",
              "    fill: var(--fill-color);\n",
              "    height: 32px;\n",
              "    padding: 0;\n",
              "    width: 32px;\n",
              "  }\n",
              "\n",
              "  .colab-df-quickchart:hover {\n",
              "    background-color: var(--hover-bg-color);\n",
              "    box-shadow: 0 1px 2px rgba(60, 64, 67, 0.3), 0 1px 3px 1px rgba(60, 64, 67, 0.15);\n",
              "    fill: var(--button-hover-fill-color);\n",
              "  }\n",
              "\n",
              "  .colab-df-quickchart-complete:disabled,\n",
              "  .colab-df-quickchart-complete:disabled:hover {\n",
              "    background-color: var(--disabled-bg-color);\n",
              "    fill: var(--disabled-fill-color);\n",
              "    box-shadow: none;\n",
              "  }\n",
              "\n",
              "  .colab-df-spinner {\n",
              "    border: 2px solid var(--fill-color);\n",
              "    border-color: transparent;\n",
              "    border-bottom-color: var(--fill-color);\n",
              "    animation:\n",
              "      spin 1s steps(1) infinite;\n",
              "  }\n",
              "\n",
              "  @keyframes spin {\n",
              "    0% {\n",
              "      border-color: transparent;\n",
              "      border-bottom-color: var(--fill-color);\n",
              "      border-left-color: var(--fill-color);\n",
              "    }\n",
              "    20% {\n",
              "      border-color: transparent;\n",
              "      border-left-color: var(--fill-color);\n",
              "      border-top-color: var(--fill-color);\n",
              "    }\n",
              "    30% {\n",
              "      border-color: transparent;\n",
              "      border-left-color: var(--fill-color);\n",
              "      border-top-color: var(--fill-color);\n",
              "      border-right-color: var(--fill-color);\n",
              "    }\n",
              "    40% {\n",
              "      border-color: transparent;\n",
              "      border-right-color: var(--fill-color);\n",
              "      border-top-color: var(--fill-color);\n",
              "    }\n",
              "    60% {\n",
              "      border-color: transparent;\n",
              "      border-right-color: var(--fill-color);\n",
              "    }\n",
              "    80% {\n",
              "      border-color: transparent;\n",
              "      border-right-color: var(--fill-color);\n",
              "      border-bottom-color: var(--fill-color);\n",
              "    }\n",
              "    90% {\n",
              "      border-color: transparent;\n",
              "      border-bottom-color: var(--fill-color);\n",
              "    }\n",
              "  }\n",
              "</style>\n",
              "\n",
              "  <script>\n",
              "    async function quickchart(key) {\n",
              "      const quickchartButtonEl =\n",
              "        document.querySelector('#' + key + ' button');\n",
              "      quickchartButtonEl.disabled = true;  // To prevent multiple clicks.\n",
              "      quickchartButtonEl.classList.add('colab-df-spinner');\n",
              "      try {\n",
              "        const charts = await google.colab.kernel.invokeFunction(\n",
              "            'suggestCharts', [key], {});\n",
              "      } catch (error) {\n",
              "        console.error('Error during call to suggestCharts:', error);\n",
              "      }\n",
              "      quickchartButtonEl.classList.remove('colab-df-spinner');\n",
              "      quickchartButtonEl.classList.add('colab-df-quickchart-complete');\n",
              "    }\n",
              "    (() => {\n",
              "      let quickchartButtonEl =\n",
              "        document.querySelector('#df-3ad9dcec-3b7c-4763-82dd-d70ebaaa3c4a button');\n",
              "      quickchartButtonEl.style.display =\n",
              "        google.colab.kernel.accessAllowed ? 'block' : 'none';\n",
              "    })();\n",
              "  </script>\n",
              "</div>\n",
              "    </div>\n",
              "  </div>\n"
            ]
          },
          "metadata": {},
          "execution_count": 17
        }
      ]
    },
    {
      "cell_type": "code",
      "source": [
        "# Renaming the v1 and v2 colums\n",
        "df.rename(columns={'v1':'Category','v2':'MessageContent'},inplace=True)\n",
        "df.sample(5)"
      ],
      "metadata": {
        "colab": {
          "base_uri": "https://localhost:8080/",
          "height": 206
        },
        "id": "3mzMUto2AlOz",
        "outputId": "1004c8f5-41b7-4aca-bc99-fe2568d6ed07"
      },
      "execution_count": 18,
      "outputs": [
        {
          "output_type": "execute_result",
          "data": {
            "text/plain": [
              "     Category                                     MessageContent\n",
              "4719      ham  Forgot to tell Ì_ smth.. Can Ì_ like number th...\n",
              "211       ham                         Home so we can always chat\n",
              "4122      ham  Cool, want me to go to kappa or should I meet ...\n",
              "4206      ham                 Lets use it next week, princess :)\n",
              "2191      ham  Thankyou so much for the call. I appreciate yo..."
            ],
            "text/html": [
              "\n",
              "  <div id=\"df-ca1e400f-1cfb-4b6d-a36a-68a14c1ea9d3\" class=\"colab-df-container\">\n",
              "    <div>\n",
              "<style scoped>\n",
              "    .dataframe tbody tr th:only-of-type {\n",
              "        vertical-align: middle;\n",
              "    }\n",
              "\n",
              "    .dataframe tbody tr th {\n",
              "        vertical-align: top;\n",
              "    }\n",
              "\n",
              "    .dataframe thead th {\n",
              "        text-align: right;\n",
              "    }\n",
              "</style>\n",
              "<table border=\"1\" class=\"dataframe\">\n",
              "  <thead>\n",
              "    <tr style=\"text-align: right;\">\n",
              "      <th></th>\n",
              "      <th>Category</th>\n",
              "      <th>MessageContent</th>\n",
              "    </tr>\n",
              "  </thead>\n",
              "  <tbody>\n",
              "    <tr>\n",
              "      <th>4719</th>\n",
              "      <td>ham</td>\n",
              "      <td>Forgot to tell Ì_ smth.. Can Ì_ like number th...</td>\n",
              "    </tr>\n",
              "    <tr>\n",
              "      <th>211</th>\n",
              "      <td>ham</td>\n",
              "      <td>Home so we can always chat</td>\n",
              "    </tr>\n",
              "    <tr>\n",
              "      <th>4122</th>\n",
              "      <td>ham</td>\n",
              "      <td>Cool, want me to go to kappa or should I meet ...</td>\n",
              "    </tr>\n",
              "    <tr>\n",
              "      <th>4206</th>\n",
              "      <td>ham</td>\n",
              "      <td>Lets use it next week, princess :)</td>\n",
              "    </tr>\n",
              "    <tr>\n",
              "      <th>2191</th>\n",
              "      <td>ham</td>\n",
              "      <td>Thankyou so much for the call. I appreciate yo...</td>\n",
              "    </tr>\n",
              "  </tbody>\n",
              "</table>\n",
              "</div>\n",
              "    <div class=\"colab-df-buttons\">\n",
              "\n",
              "  <div class=\"colab-df-container\">\n",
              "    <button class=\"colab-df-convert\" onclick=\"convertToInteractive('df-ca1e400f-1cfb-4b6d-a36a-68a14c1ea9d3')\"\n",
              "            title=\"Convert this dataframe to an interactive table.\"\n",
              "            style=\"display:none;\">\n",
              "\n",
              "  <svg xmlns=\"http://www.w3.org/2000/svg\" height=\"24px\" viewBox=\"0 -960 960 960\">\n",
              "    <path d=\"M120-120v-720h720v720H120Zm60-500h600v-160H180v160Zm220 220h160v-160H400v160Zm0 220h160v-160H400v160ZM180-400h160v-160H180v160Zm440 0h160v-160H620v160ZM180-180h160v-160H180v160Zm440 0h160v-160H620v160Z\"/>\n",
              "  </svg>\n",
              "    </button>\n",
              "\n",
              "  <style>\n",
              "    .colab-df-container {\n",
              "      display:flex;\n",
              "      gap: 12px;\n",
              "    }\n",
              "\n",
              "    .colab-df-convert {\n",
              "      background-color: #E8F0FE;\n",
              "      border: none;\n",
              "      border-radius: 50%;\n",
              "      cursor: pointer;\n",
              "      display: none;\n",
              "      fill: #1967D2;\n",
              "      height: 32px;\n",
              "      padding: 0 0 0 0;\n",
              "      width: 32px;\n",
              "    }\n",
              "\n",
              "    .colab-df-convert:hover {\n",
              "      background-color: #E2EBFA;\n",
              "      box-shadow: 0px 1px 2px rgba(60, 64, 67, 0.3), 0px 1px 3px 1px rgba(60, 64, 67, 0.15);\n",
              "      fill: #174EA6;\n",
              "    }\n",
              "\n",
              "    .colab-df-buttons div {\n",
              "      margin-bottom: 4px;\n",
              "    }\n",
              "\n",
              "    [theme=dark] .colab-df-convert {\n",
              "      background-color: #3B4455;\n",
              "      fill: #D2E3FC;\n",
              "    }\n",
              "\n",
              "    [theme=dark] .colab-df-convert:hover {\n",
              "      background-color: #434B5C;\n",
              "      box-shadow: 0px 1px 3px 1px rgba(0, 0, 0, 0.15);\n",
              "      filter: drop-shadow(0px 1px 2px rgba(0, 0, 0, 0.3));\n",
              "      fill: #FFFFFF;\n",
              "    }\n",
              "  </style>\n",
              "\n",
              "    <script>\n",
              "      const buttonEl =\n",
              "        document.querySelector('#df-ca1e400f-1cfb-4b6d-a36a-68a14c1ea9d3 button.colab-df-convert');\n",
              "      buttonEl.style.display =\n",
              "        google.colab.kernel.accessAllowed ? 'block' : 'none';\n",
              "\n",
              "      async function convertToInteractive(key) {\n",
              "        const element = document.querySelector('#df-ca1e400f-1cfb-4b6d-a36a-68a14c1ea9d3');\n",
              "        const dataTable =\n",
              "          await google.colab.kernel.invokeFunction('convertToInteractive',\n",
              "                                                    [key], {});\n",
              "        if (!dataTable) return;\n",
              "\n",
              "        const docLinkHtml = 'Like what you see? Visit the ' +\n",
              "          '<a target=\"_blank\" href=https://colab.research.google.com/notebooks/data_table.ipynb>data table notebook</a>'\n",
              "          + ' to learn more about interactive tables.';\n",
              "        element.innerHTML = '';\n",
              "        dataTable['output_type'] = 'display_data';\n",
              "        await google.colab.output.renderOutput(dataTable, element);\n",
              "        const docLink = document.createElement('div');\n",
              "        docLink.innerHTML = docLinkHtml;\n",
              "        element.appendChild(docLink);\n",
              "      }\n",
              "    </script>\n",
              "  </div>\n",
              "\n",
              "\n",
              "<div id=\"df-011b3b60-99e7-4689-9703-febb9295997c\">\n",
              "  <button class=\"colab-df-quickchart\" onclick=\"quickchart('df-011b3b60-99e7-4689-9703-febb9295997c')\"\n",
              "            title=\"Suggest charts.\"\n",
              "            style=\"display:none;\">\n",
              "\n",
              "<svg xmlns=\"http://www.w3.org/2000/svg\" height=\"24px\"viewBox=\"0 0 24 24\"\n",
              "     width=\"24px\">\n",
              "    <g>\n",
              "        <path d=\"M19 3H5c-1.1 0-2 .9-2 2v14c0 1.1.9 2 2 2h14c1.1 0 2-.9 2-2V5c0-1.1-.9-2-2-2zM9 17H7v-7h2v7zm4 0h-2V7h2v10zm4 0h-2v-4h2v4z\"/>\n",
              "    </g>\n",
              "</svg>\n",
              "  </button>\n",
              "\n",
              "<style>\n",
              "  .colab-df-quickchart {\n",
              "      --bg-color: #E8F0FE;\n",
              "      --fill-color: #1967D2;\n",
              "      --hover-bg-color: #E2EBFA;\n",
              "      --hover-fill-color: #174EA6;\n",
              "      --disabled-fill-color: #AAA;\n",
              "      --disabled-bg-color: #DDD;\n",
              "  }\n",
              "\n",
              "  [theme=dark] .colab-df-quickchart {\n",
              "      --bg-color: #3B4455;\n",
              "      --fill-color: #D2E3FC;\n",
              "      --hover-bg-color: #434B5C;\n",
              "      --hover-fill-color: #FFFFFF;\n",
              "      --disabled-bg-color: #3B4455;\n",
              "      --disabled-fill-color: #666;\n",
              "  }\n",
              "\n",
              "  .colab-df-quickchart {\n",
              "    background-color: var(--bg-color);\n",
              "    border: none;\n",
              "    border-radius: 50%;\n",
              "    cursor: pointer;\n",
              "    display: none;\n",
              "    fill: var(--fill-color);\n",
              "    height: 32px;\n",
              "    padding: 0;\n",
              "    width: 32px;\n",
              "  }\n",
              "\n",
              "  .colab-df-quickchart:hover {\n",
              "    background-color: var(--hover-bg-color);\n",
              "    box-shadow: 0 1px 2px rgba(60, 64, 67, 0.3), 0 1px 3px 1px rgba(60, 64, 67, 0.15);\n",
              "    fill: var(--button-hover-fill-color);\n",
              "  }\n",
              "\n",
              "  .colab-df-quickchart-complete:disabled,\n",
              "  .colab-df-quickchart-complete:disabled:hover {\n",
              "    background-color: var(--disabled-bg-color);\n",
              "    fill: var(--disabled-fill-color);\n",
              "    box-shadow: none;\n",
              "  }\n",
              "\n",
              "  .colab-df-spinner {\n",
              "    border: 2px solid var(--fill-color);\n",
              "    border-color: transparent;\n",
              "    border-bottom-color: var(--fill-color);\n",
              "    animation:\n",
              "      spin 1s steps(1) infinite;\n",
              "  }\n",
              "\n",
              "  @keyframes spin {\n",
              "    0% {\n",
              "      border-color: transparent;\n",
              "      border-bottom-color: var(--fill-color);\n",
              "      border-left-color: var(--fill-color);\n",
              "    }\n",
              "    20% {\n",
              "      border-color: transparent;\n",
              "      border-left-color: var(--fill-color);\n",
              "      border-top-color: var(--fill-color);\n",
              "    }\n",
              "    30% {\n",
              "      border-color: transparent;\n",
              "      border-left-color: var(--fill-color);\n",
              "      border-top-color: var(--fill-color);\n",
              "      border-right-color: var(--fill-color);\n",
              "    }\n",
              "    40% {\n",
              "      border-color: transparent;\n",
              "      border-right-color: var(--fill-color);\n",
              "      border-top-color: var(--fill-color);\n",
              "    }\n",
              "    60% {\n",
              "      border-color: transparent;\n",
              "      border-right-color: var(--fill-color);\n",
              "    }\n",
              "    80% {\n",
              "      border-color: transparent;\n",
              "      border-right-color: var(--fill-color);\n",
              "      border-bottom-color: var(--fill-color);\n",
              "    }\n",
              "    90% {\n",
              "      border-color: transparent;\n",
              "      border-bottom-color: var(--fill-color);\n",
              "    }\n",
              "  }\n",
              "</style>\n",
              "\n",
              "  <script>\n",
              "    async function quickchart(key) {\n",
              "      const quickchartButtonEl =\n",
              "        document.querySelector('#' + key + ' button');\n",
              "      quickchartButtonEl.disabled = true;  // To prevent multiple clicks.\n",
              "      quickchartButtonEl.classList.add('colab-df-spinner');\n",
              "      try {\n",
              "        const charts = await google.colab.kernel.invokeFunction(\n",
              "            'suggestCharts', [key], {});\n",
              "      } catch (error) {\n",
              "        console.error('Error during call to suggestCharts:', error);\n",
              "      }\n",
              "      quickchartButtonEl.classList.remove('colab-df-spinner');\n",
              "      quickchartButtonEl.classList.add('colab-df-quickchart-complete');\n",
              "    }\n",
              "    (() => {\n",
              "      let quickchartButtonEl =\n",
              "        document.querySelector('#df-011b3b60-99e7-4689-9703-febb9295997c button');\n",
              "      quickchartButtonEl.style.display =\n",
              "        google.colab.kernel.accessAllowed ? 'block' : 'none';\n",
              "    })();\n",
              "  </script>\n",
              "</div>\n",
              "    </div>\n",
              "  </div>\n"
            ]
          },
          "metadata": {},
          "execution_count": 18
        }
      ]
    },
    {
      "cell_type": "code",
      "source": [
        "# Encoding categorical feature \"Target\" by converting categorical variables into numerical form.Here we take ham=0 and spam=1"
      ],
      "metadata": {
        "id": "ytj4V-DwBO8t"
      },
      "execution_count": 19,
      "outputs": []
    },
    {
      "cell_type": "code",
      "source": [
        "from sklearn.preprocessing import LabelEncoder\n",
        "encoder = LabelEncoder()"
      ],
      "metadata": {
        "id": "ImRupdsjCDgN"
      },
      "execution_count": 20,
      "outputs": []
    },
    {
      "cell_type": "code",
      "source": [
        "df['Category'] = encoder.fit_transform(df['Category'])"
      ],
      "metadata": {
        "id": "4rIwVlbCCMMB"
      },
      "execution_count": 21,
      "outputs": []
    },
    {
      "cell_type": "code",
      "source": [
        "df.sample(3)"
      ],
      "metadata": {
        "colab": {
          "base_uri": "https://localhost:8080/",
          "height": 143
        },
        "id": "rtMmgnNFCVCT",
        "outputId": "e67e61d5-9880-4140-a96b-fad9d6e77e24"
      },
      "execution_count": 22,
      "outputs": [
        {
          "output_type": "execute_result",
          "data": {
            "text/plain": [
              "      Category                                     MessageContent\n",
              "1421         0                        Do you work all this week ?\n",
              "3601         0     Cps is causing the outages to conserve energy.\n",
              "5132         0  it's still not working. And this time i also t..."
            ],
            "text/html": [
              "\n",
              "  <div id=\"df-4674c352-0416-473c-b879-2544c5953ced\" class=\"colab-df-container\">\n",
              "    <div>\n",
              "<style scoped>\n",
              "    .dataframe tbody tr th:only-of-type {\n",
              "        vertical-align: middle;\n",
              "    }\n",
              "\n",
              "    .dataframe tbody tr th {\n",
              "        vertical-align: top;\n",
              "    }\n",
              "\n",
              "    .dataframe thead th {\n",
              "        text-align: right;\n",
              "    }\n",
              "</style>\n",
              "<table border=\"1\" class=\"dataframe\">\n",
              "  <thead>\n",
              "    <tr style=\"text-align: right;\">\n",
              "      <th></th>\n",
              "      <th>Category</th>\n",
              "      <th>MessageContent</th>\n",
              "    </tr>\n",
              "  </thead>\n",
              "  <tbody>\n",
              "    <tr>\n",
              "      <th>1421</th>\n",
              "      <td>0</td>\n",
              "      <td>Do you work all this week ?</td>\n",
              "    </tr>\n",
              "    <tr>\n",
              "      <th>3601</th>\n",
              "      <td>0</td>\n",
              "      <td>Cps is causing the outages to conserve energy.</td>\n",
              "    </tr>\n",
              "    <tr>\n",
              "      <th>5132</th>\n",
              "      <td>0</td>\n",
              "      <td>it's still not working. And this time i also t...</td>\n",
              "    </tr>\n",
              "  </tbody>\n",
              "</table>\n",
              "</div>\n",
              "    <div class=\"colab-df-buttons\">\n",
              "\n",
              "  <div class=\"colab-df-container\">\n",
              "    <button class=\"colab-df-convert\" onclick=\"convertToInteractive('df-4674c352-0416-473c-b879-2544c5953ced')\"\n",
              "            title=\"Convert this dataframe to an interactive table.\"\n",
              "            style=\"display:none;\">\n",
              "\n",
              "  <svg xmlns=\"http://www.w3.org/2000/svg\" height=\"24px\" viewBox=\"0 -960 960 960\">\n",
              "    <path d=\"M120-120v-720h720v720H120Zm60-500h600v-160H180v160Zm220 220h160v-160H400v160Zm0 220h160v-160H400v160ZM180-400h160v-160H180v160Zm440 0h160v-160H620v160ZM180-180h160v-160H180v160Zm440 0h160v-160H620v160Z\"/>\n",
              "  </svg>\n",
              "    </button>\n",
              "\n",
              "  <style>\n",
              "    .colab-df-container {\n",
              "      display:flex;\n",
              "      gap: 12px;\n",
              "    }\n",
              "\n",
              "    .colab-df-convert {\n",
              "      background-color: #E8F0FE;\n",
              "      border: none;\n",
              "      border-radius: 50%;\n",
              "      cursor: pointer;\n",
              "      display: none;\n",
              "      fill: #1967D2;\n",
              "      height: 32px;\n",
              "      padding: 0 0 0 0;\n",
              "      width: 32px;\n",
              "    }\n",
              "\n",
              "    .colab-df-convert:hover {\n",
              "      background-color: #E2EBFA;\n",
              "      box-shadow: 0px 1px 2px rgba(60, 64, 67, 0.3), 0px 1px 3px 1px rgba(60, 64, 67, 0.15);\n",
              "      fill: #174EA6;\n",
              "    }\n",
              "\n",
              "    .colab-df-buttons div {\n",
              "      margin-bottom: 4px;\n",
              "    }\n",
              "\n",
              "    [theme=dark] .colab-df-convert {\n",
              "      background-color: #3B4455;\n",
              "      fill: #D2E3FC;\n",
              "    }\n",
              "\n",
              "    [theme=dark] .colab-df-convert:hover {\n",
              "      background-color: #434B5C;\n",
              "      box-shadow: 0px 1px 3px 1px rgba(0, 0, 0, 0.15);\n",
              "      filter: drop-shadow(0px 1px 2px rgba(0, 0, 0, 0.3));\n",
              "      fill: #FFFFFF;\n",
              "    }\n",
              "  </style>\n",
              "\n",
              "    <script>\n",
              "      const buttonEl =\n",
              "        document.querySelector('#df-4674c352-0416-473c-b879-2544c5953ced button.colab-df-convert');\n",
              "      buttonEl.style.display =\n",
              "        google.colab.kernel.accessAllowed ? 'block' : 'none';\n",
              "\n",
              "      async function convertToInteractive(key) {\n",
              "        const element = document.querySelector('#df-4674c352-0416-473c-b879-2544c5953ced');\n",
              "        const dataTable =\n",
              "          await google.colab.kernel.invokeFunction('convertToInteractive',\n",
              "                                                    [key], {});\n",
              "        if (!dataTable) return;\n",
              "\n",
              "        const docLinkHtml = 'Like what you see? Visit the ' +\n",
              "          '<a target=\"_blank\" href=https://colab.research.google.com/notebooks/data_table.ipynb>data table notebook</a>'\n",
              "          + ' to learn more about interactive tables.';\n",
              "        element.innerHTML = '';\n",
              "        dataTable['output_type'] = 'display_data';\n",
              "        await google.colab.output.renderOutput(dataTable, element);\n",
              "        const docLink = document.createElement('div');\n",
              "        docLink.innerHTML = docLinkHtml;\n",
              "        element.appendChild(docLink);\n",
              "      }\n",
              "    </script>\n",
              "  </div>\n",
              "\n",
              "\n",
              "<div id=\"df-64a3b812-9170-44c7-97a3-7f0fcc3c8c7b\">\n",
              "  <button class=\"colab-df-quickchart\" onclick=\"quickchart('df-64a3b812-9170-44c7-97a3-7f0fcc3c8c7b')\"\n",
              "            title=\"Suggest charts.\"\n",
              "            style=\"display:none;\">\n",
              "\n",
              "<svg xmlns=\"http://www.w3.org/2000/svg\" height=\"24px\"viewBox=\"0 0 24 24\"\n",
              "     width=\"24px\">\n",
              "    <g>\n",
              "        <path d=\"M19 3H5c-1.1 0-2 .9-2 2v14c0 1.1.9 2 2 2h14c1.1 0 2-.9 2-2V5c0-1.1-.9-2-2-2zM9 17H7v-7h2v7zm4 0h-2V7h2v10zm4 0h-2v-4h2v4z\"/>\n",
              "    </g>\n",
              "</svg>\n",
              "  </button>\n",
              "\n",
              "<style>\n",
              "  .colab-df-quickchart {\n",
              "      --bg-color: #E8F0FE;\n",
              "      --fill-color: #1967D2;\n",
              "      --hover-bg-color: #E2EBFA;\n",
              "      --hover-fill-color: #174EA6;\n",
              "      --disabled-fill-color: #AAA;\n",
              "      --disabled-bg-color: #DDD;\n",
              "  }\n",
              "\n",
              "  [theme=dark] .colab-df-quickchart {\n",
              "      --bg-color: #3B4455;\n",
              "      --fill-color: #D2E3FC;\n",
              "      --hover-bg-color: #434B5C;\n",
              "      --hover-fill-color: #FFFFFF;\n",
              "      --disabled-bg-color: #3B4455;\n",
              "      --disabled-fill-color: #666;\n",
              "  }\n",
              "\n",
              "  .colab-df-quickchart {\n",
              "    background-color: var(--bg-color);\n",
              "    border: none;\n",
              "    border-radius: 50%;\n",
              "    cursor: pointer;\n",
              "    display: none;\n",
              "    fill: var(--fill-color);\n",
              "    height: 32px;\n",
              "    padding: 0;\n",
              "    width: 32px;\n",
              "  }\n",
              "\n",
              "  .colab-df-quickchart:hover {\n",
              "    background-color: var(--hover-bg-color);\n",
              "    box-shadow: 0 1px 2px rgba(60, 64, 67, 0.3), 0 1px 3px 1px rgba(60, 64, 67, 0.15);\n",
              "    fill: var(--button-hover-fill-color);\n",
              "  }\n",
              "\n",
              "  .colab-df-quickchart-complete:disabled,\n",
              "  .colab-df-quickchart-complete:disabled:hover {\n",
              "    background-color: var(--disabled-bg-color);\n",
              "    fill: var(--disabled-fill-color);\n",
              "    box-shadow: none;\n",
              "  }\n",
              "\n",
              "  .colab-df-spinner {\n",
              "    border: 2px solid var(--fill-color);\n",
              "    border-color: transparent;\n",
              "    border-bottom-color: var(--fill-color);\n",
              "    animation:\n",
              "      spin 1s steps(1) infinite;\n",
              "  }\n",
              "\n",
              "  @keyframes spin {\n",
              "    0% {\n",
              "      border-color: transparent;\n",
              "      border-bottom-color: var(--fill-color);\n",
              "      border-left-color: var(--fill-color);\n",
              "    }\n",
              "    20% {\n",
              "      border-color: transparent;\n",
              "      border-left-color: var(--fill-color);\n",
              "      border-top-color: var(--fill-color);\n",
              "    }\n",
              "    30% {\n",
              "      border-color: transparent;\n",
              "      border-left-color: var(--fill-color);\n",
              "      border-top-color: var(--fill-color);\n",
              "      border-right-color: var(--fill-color);\n",
              "    }\n",
              "    40% {\n",
              "      border-color: transparent;\n",
              "      border-right-color: var(--fill-color);\n",
              "      border-top-color: var(--fill-color);\n",
              "    }\n",
              "    60% {\n",
              "      border-color: transparent;\n",
              "      border-right-color: var(--fill-color);\n",
              "    }\n",
              "    80% {\n",
              "      border-color: transparent;\n",
              "      border-right-color: var(--fill-color);\n",
              "      border-bottom-color: var(--fill-color);\n",
              "    }\n",
              "    90% {\n",
              "      border-color: transparent;\n",
              "      border-bottom-color: var(--fill-color);\n",
              "    }\n",
              "  }\n",
              "</style>\n",
              "\n",
              "  <script>\n",
              "    async function quickchart(key) {\n",
              "      const quickchartButtonEl =\n",
              "        document.querySelector('#' + key + ' button');\n",
              "      quickchartButtonEl.disabled = true;  // To prevent multiple clicks.\n",
              "      quickchartButtonEl.classList.add('colab-df-spinner');\n",
              "      try {\n",
              "        const charts = await google.colab.kernel.invokeFunction(\n",
              "            'suggestCharts', [key], {});\n",
              "      } catch (error) {\n",
              "        console.error('Error during call to suggestCharts:', error);\n",
              "      }\n",
              "      quickchartButtonEl.classList.remove('colab-df-spinner');\n",
              "      quickchartButtonEl.classList.add('colab-df-quickchart-complete');\n",
              "    }\n",
              "    (() => {\n",
              "      let quickchartButtonEl =\n",
              "        document.querySelector('#df-64a3b812-9170-44c7-97a3-7f0fcc3c8c7b button');\n",
              "      quickchartButtonEl.style.display =\n",
              "        google.colab.kernel.accessAllowed ? 'block' : 'none';\n",
              "    })();\n",
              "  </script>\n",
              "</div>\n",
              "    </div>\n",
              "  </div>\n"
            ]
          },
          "metadata": {},
          "execution_count": 22
        }
      ]
    },
    {
      "cell_type": "code",
      "source": [
        "df.duplicated().sum()"
      ],
      "metadata": {
        "colab": {
          "base_uri": "https://localhost:8080/"
        },
        "id": "tKEroLpfENIk",
        "outputId": "ce6a98e5-bb94-4c2f-82b9-569957b5c232"
      },
      "execution_count": 23,
      "outputs": [
        {
          "output_type": "execute_result",
          "data": {
            "text/plain": [
              "403"
            ]
          },
          "metadata": {},
          "execution_count": 23
        }
      ]
    },
    {
      "cell_type": "code",
      "source": [
        "# remove duplicates\n",
        "df = df.drop_duplicates(keep='first')"
      ],
      "metadata": {
        "id": "Px6lXy7TEN4R"
      },
      "execution_count": 24,
      "outputs": []
    },
    {
      "cell_type": "code",
      "source": [
        "df.duplicated().sum()"
      ],
      "metadata": {
        "colab": {
          "base_uri": "https://localhost:8080/"
        },
        "id": "-xs5cMyjERaN",
        "outputId": "372cd921-53c7-4dc1-e7ce-895a5af92db8"
      },
      "execution_count": 25,
      "outputs": [
        {
          "output_type": "execute_result",
          "data": {
            "text/plain": [
              "0"
            ]
          },
          "metadata": {},
          "execution_count": 25
        }
      ]
    },
    {
      "cell_type": "code",
      "source": [
        "df.shape"
      ],
      "metadata": {
        "colab": {
          "base_uri": "https://localhost:8080/"
        },
        "id": "-_VCHmnNETvB",
        "outputId": "b762242b-957e-423c-c725-3684cf1bcb04"
      },
      "execution_count": 26,
      "outputs": [
        {
          "output_type": "execute_result",
          "data": {
            "text/plain": [
              "(5169, 2)"
            ]
          },
          "metadata": {},
          "execution_count": 26
        }
      ]
    },
    {
      "cell_type": "code",
      "source": [
        "# Using NLTK (Natural Language Toolkit) to count the number of characters, words and sentences for the text message content"
      ],
      "metadata": {
        "id": "zVuj1aHuFDcb"
      },
      "execution_count": 27,
      "outputs": []
    },
    {
      "cell_type": "code",
      "source": [
        "import nltk\n",
        "!pip install nltk\n",
        "nltk.download('punkt')\n",
        "import nltk"
      ],
      "metadata": {
        "colab": {
          "base_uri": "https://localhost:8080/"
        },
        "id": "Sh8oGy8tFVmS",
        "outputId": "f1a54e1c-901e-4ed8-bcc1-7bf4d2296202"
      },
      "execution_count": 28,
      "outputs": [
        {
          "output_type": "stream",
          "name": "stdout",
          "text": [
            "Requirement already satisfied: nltk in /usr/local/lib/python3.10/dist-packages (3.8.1)\n",
            "Requirement already satisfied: click in /usr/local/lib/python3.10/dist-packages (from nltk) (8.1.7)\n",
            "Requirement already satisfied: joblib in /usr/local/lib/python3.10/dist-packages (from nltk) (1.3.2)\n",
            "Requirement already satisfied: regex>=2021.8.3 in /usr/local/lib/python3.10/dist-packages (from nltk) (2023.6.3)\n",
            "Requirement already satisfied: tqdm in /usr/local/lib/python3.10/dist-packages (from nltk) (4.66.1)\n"
          ]
        },
        {
          "output_type": "stream",
          "name": "stderr",
          "text": [
            "[nltk_data] Downloading package punkt to /root/nltk_data...\n",
            "[nltk_data]   Unzipping tokenizers/punkt.zip.\n"
          ]
        }
      ]
    },
    {
      "cell_type": "code",
      "source": [
        "# Calculating The Number Of Characters\n",
        "df['No.of_Characters'] = df['MessageContent'].apply(len)\n",
        "\n",
        "# Calculating The Number Of Words\n",
        "df['No.of_Words'] = df['MessageContent'].apply(lambda x:len(nltk.word_tokenize(x)))\n",
        "\n",
        "# Calculating The Number Of Sentences\n",
        "df['No.of_Sentences'] = df['MessageContent'].apply(lambda x:len(nltk.sent_tokenize(x)))"
      ],
      "metadata": {
        "id": "iBk7Gjo9FjuV"
      },
      "execution_count": 29,
      "outputs": []
    },
    {
      "cell_type": "code",
      "source": [
        "df.head()"
      ],
      "metadata": {
        "colab": {
          "base_uri": "https://localhost:8080/",
          "height": 206
        },
        "id": "aGUMGO2HGImW",
        "outputId": "04cc3577-abae-44b6-e4ee-fca7406f98f7"
      },
      "execution_count": 30,
      "outputs": [
        {
          "output_type": "execute_result",
          "data": {
            "text/plain": [
              "   Category                                     MessageContent  \\\n",
              "0         0  Go until jurong point, crazy.. Available only ...   \n",
              "1         0                      Ok lar... Joking wif u oni...   \n",
              "2         1  Free entry in 2 a wkly comp to win FA Cup fina...   \n",
              "3         0  U dun say so early hor... U c already then say...   \n",
              "4         0  Nah I don't think he goes to usf, he lives aro...   \n",
              "\n",
              "   No.of_Characters  No.of_Words  No.of_Sentences  \n",
              "0               111           24                2  \n",
              "1                29            8                2  \n",
              "2               155           37                2  \n",
              "3                49           13                1  \n",
              "4                61           15                1  "
            ],
            "text/html": [
              "\n",
              "  <div id=\"df-52fafc31-4e2e-4ce1-9520-38eb6946190b\" class=\"colab-df-container\">\n",
              "    <div>\n",
              "<style scoped>\n",
              "    .dataframe tbody tr th:only-of-type {\n",
              "        vertical-align: middle;\n",
              "    }\n",
              "\n",
              "    .dataframe tbody tr th {\n",
              "        vertical-align: top;\n",
              "    }\n",
              "\n",
              "    .dataframe thead th {\n",
              "        text-align: right;\n",
              "    }\n",
              "</style>\n",
              "<table border=\"1\" class=\"dataframe\">\n",
              "  <thead>\n",
              "    <tr style=\"text-align: right;\">\n",
              "      <th></th>\n",
              "      <th>Category</th>\n",
              "      <th>MessageContent</th>\n",
              "      <th>No.of_Characters</th>\n",
              "      <th>No.of_Words</th>\n",
              "      <th>No.of_Sentences</th>\n",
              "    </tr>\n",
              "  </thead>\n",
              "  <tbody>\n",
              "    <tr>\n",
              "      <th>0</th>\n",
              "      <td>0</td>\n",
              "      <td>Go until jurong point, crazy.. Available only ...</td>\n",
              "      <td>111</td>\n",
              "      <td>24</td>\n",
              "      <td>2</td>\n",
              "    </tr>\n",
              "    <tr>\n",
              "      <th>1</th>\n",
              "      <td>0</td>\n",
              "      <td>Ok lar... Joking wif u oni...</td>\n",
              "      <td>29</td>\n",
              "      <td>8</td>\n",
              "      <td>2</td>\n",
              "    </tr>\n",
              "    <tr>\n",
              "      <th>2</th>\n",
              "      <td>1</td>\n",
              "      <td>Free entry in 2 a wkly comp to win FA Cup fina...</td>\n",
              "      <td>155</td>\n",
              "      <td>37</td>\n",
              "      <td>2</td>\n",
              "    </tr>\n",
              "    <tr>\n",
              "      <th>3</th>\n",
              "      <td>0</td>\n",
              "      <td>U dun say so early hor... U c already then say...</td>\n",
              "      <td>49</td>\n",
              "      <td>13</td>\n",
              "      <td>1</td>\n",
              "    </tr>\n",
              "    <tr>\n",
              "      <th>4</th>\n",
              "      <td>0</td>\n",
              "      <td>Nah I don't think he goes to usf, he lives aro...</td>\n",
              "      <td>61</td>\n",
              "      <td>15</td>\n",
              "      <td>1</td>\n",
              "    </tr>\n",
              "  </tbody>\n",
              "</table>\n",
              "</div>\n",
              "    <div class=\"colab-df-buttons\">\n",
              "\n",
              "  <div class=\"colab-df-container\">\n",
              "    <button class=\"colab-df-convert\" onclick=\"convertToInteractive('df-52fafc31-4e2e-4ce1-9520-38eb6946190b')\"\n",
              "            title=\"Convert this dataframe to an interactive table.\"\n",
              "            style=\"display:none;\">\n",
              "\n",
              "  <svg xmlns=\"http://www.w3.org/2000/svg\" height=\"24px\" viewBox=\"0 -960 960 960\">\n",
              "    <path d=\"M120-120v-720h720v720H120Zm60-500h600v-160H180v160Zm220 220h160v-160H400v160Zm0 220h160v-160H400v160ZM180-400h160v-160H180v160Zm440 0h160v-160H620v160ZM180-180h160v-160H180v160Zm440 0h160v-160H620v160Z\"/>\n",
              "  </svg>\n",
              "    </button>\n",
              "\n",
              "  <style>\n",
              "    .colab-df-container {\n",
              "      display:flex;\n",
              "      gap: 12px;\n",
              "    }\n",
              "\n",
              "    .colab-df-convert {\n",
              "      background-color: #E8F0FE;\n",
              "      border: none;\n",
              "      border-radius: 50%;\n",
              "      cursor: pointer;\n",
              "      display: none;\n",
              "      fill: #1967D2;\n",
              "      height: 32px;\n",
              "      padding: 0 0 0 0;\n",
              "      width: 32px;\n",
              "    }\n",
              "\n",
              "    .colab-df-convert:hover {\n",
              "      background-color: #E2EBFA;\n",
              "      box-shadow: 0px 1px 2px rgba(60, 64, 67, 0.3), 0px 1px 3px 1px rgba(60, 64, 67, 0.15);\n",
              "      fill: #174EA6;\n",
              "    }\n",
              "\n",
              "    .colab-df-buttons div {\n",
              "      margin-bottom: 4px;\n",
              "    }\n",
              "\n",
              "    [theme=dark] .colab-df-convert {\n",
              "      background-color: #3B4455;\n",
              "      fill: #D2E3FC;\n",
              "    }\n",
              "\n",
              "    [theme=dark] .colab-df-convert:hover {\n",
              "      background-color: #434B5C;\n",
              "      box-shadow: 0px 1px 3px 1px rgba(0, 0, 0, 0.15);\n",
              "      filter: drop-shadow(0px 1px 2px rgba(0, 0, 0, 0.3));\n",
              "      fill: #FFFFFF;\n",
              "    }\n",
              "  </style>\n",
              "\n",
              "    <script>\n",
              "      const buttonEl =\n",
              "        document.querySelector('#df-52fafc31-4e2e-4ce1-9520-38eb6946190b button.colab-df-convert');\n",
              "      buttonEl.style.display =\n",
              "        google.colab.kernel.accessAllowed ? 'block' : 'none';\n",
              "\n",
              "      async function convertToInteractive(key) {\n",
              "        const element = document.querySelector('#df-52fafc31-4e2e-4ce1-9520-38eb6946190b');\n",
              "        const dataTable =\n",
              "          await google.colab.kernel.invokeFunction('convertToInteractive',\n",
              "                                                    [key], {});\n",
              "        if (!dataTable) return;\n",
              "\n",
              "        const docLinkHtml = 'Like what you see? Visit the ' +\n",
              "          '<a target=\"_blank\" href=https://colab.research.google.com/notebooks/data_table.ipynb>data table notebook</a>'\n",
              "          + ' to learn more about interactive tables.';\n",
              "        element.innerHTML = '';\n",
              "        dataTable['output_type'] = 'display_data';\n",
              "        await google.colab.output.renderOutput(dataTable, element);\n",
              "        const docLink = document.createElement('div');\n",
              "        docLink.innerHTML = docLinkHtml;\n",
              "        element.appendChild(docLink);\n",
              "      }\n",
              "    </script>\n",
              "  </div>\n",
              "\n",
              "\n",
              "<div id=\"df-f37acc0f-1c3f-4573-98bf-225e96493f8f\">\n",
              "  <button class=\"colab-df-quickchart\" onclick=\"quickchart('df-f37acc0f-1c3f-4573-98bf-225e96493f8f')\"\n",
              "            title=\"Suggest charts.\"\n",
              "            style=\"display:none;\">\n",
              "\n",
              "<svg xmlns=\"http://www.w3.org/2000/svg\" height=\"24px\"viewBox=\"0 0 24 24\"\n",
              "     width=\"24px\">\n",
              "    <g>\n",
              "        <path d=\"M19 3H5c-1.1 0-2 .9-2 2v14c0 1.1.9 2 2 2h14c1.1 0 2-.9 2-2V5c0-1.1-.9-2-2-2zM9 17H7v-7h2v7zm4 0h-2V7h2v10zm4 0h-2v-4h2v4z\"/>\n",
              "    </g>\n",
              "</svg>\n",
              "  </button>\n",
              "\n",
              "<style>\n",
              "  .colab-df-quickchart {\n",
              "      --bg-color: #E8F0FE;\n",
              "      --fill-color: #1967D2;\n",
              "      --hover-bg-color: #E2EBFA;\n",
              "      --hover-fill-color: #174EA6;\n",
              "      --disabled-fill-color: #AAA;\n",
              "      --disabled-bg-color: #DDD;\n",
              "  }\n",
              "\n",
              "  [theme=dark] .colab-df-quickchart {\n",
              "      --bg-color: #3B4455;\n",
              "      --fill-color: #D2E3FC;\n",
              "      --hover-bg-color: #434B5C;\n",
              "      --hover-fill-color: #FFFFFF;\n",
              "      --disabled-bg-color: #3B4455;\n",
              "      --disabled-fill-color: #666;\n",
              "  }\n",
              "\n",
              "  .colab-df-quickchart {\n",
              "    background-color: var(--bg-color);\n",
              "    border: none;\n",
              "    border-radius: 50%;\n",
              "    cursor: pointer;\n",
              "    display: none;\n",
              "    fill: var(--fill-color);\n",
              "    height: 32px;\n",
              "    padding: 0;\n",
              "    width: 32px;\n",
              "  }\n",
              "\n",
              "  .colab-df-quickchart:hover {\n",
              "    background-color: var(--hover-bg-color);\n",
              "    box-shadow: 0 1px 2px rgba(60, 64, 67, 0.3), 0 1px 3px 1px rgba(60, 64, 67, 0.15);\n",
              "    fill: var(--button-hover-fill-color);\n",
              "  }\n",
              "\n",
              "  .colab-df-quickchart-complete:disabled,\n",
              "  .colab-df-quickchart-complete:disabled:hover {\n",
              "    background-color: var(--disabled-bg-color);\n",
              "    fill: var(--disabled-fill-color);\n",
              "    box-shadow: none;\n",
              "  }\n",
              "\n",
              "  .colab-df-spinner {\n",
              "    border: 2px solid var(--fill-color);\n",
              "    border-color: transparent;\n",
              "    border-bottom-color: var(--fill-color);\n",
              "    animation:\n",
              "      spin 1s steps(1) infinite;\n",
              "  }\n",
              "\n",
              "  @keyframes spin {\n",
              "    0% {\n",
              "      border-color: transparent;\n",
              "      border-bottom-color: var(--fill-color);\n",
              "      border-left-color: var(--fill-color);\n",
              "    }\n",
              "    20% {\n",
              "      border-color: transparent;\n",
              "      border-left-color: var(--fill-color);\n",
              "      border-top-color: var(--fill-color);\n",
              "    }\n",
              "    30% {\n",
              "      border-color: transparent;\n",
              "      border-left-color: var(--fill-color);\n",
              "      border-top-color: var(--fill-color);\n",
              "      border-right-color: var(--fill-color);\n",
              "    }\n",
              "    40% {\n",
              "      border-color: transparent;\n",
              "      border-right-color: var(--fill-color);\n",
              "      border-top-color: var(--fill-color);\n",
              "    }\n",
              "    60% {\n",
              "      border-color: transparent;\n",
              "      border-right-color: var(--fill-color);\n",
              "    }\n",
              "    80% {\n",
              "      border-color: transparent;\n",
              "      border-right-color: var(--fill-color);\n",
              "      border-bottom-color: var(--fill-color);\n",
              "    }\n",
              "    90% {\n",
              "      border-color: transparent;\n",
              "      border-bottom-color: var(--fill-color);\n",
              "    }\n",
              "  }\n",
              "</style>\n",
              "\n",
              "  <script>\n",
              "    async function quickchart(key) {\n",
              "      const quickchartButtonEl =\n",
              "        document.querySelector('#' + key + ' button');\n",
              "      quickchartButtonEl.disabled = true;  // To prevent multiple clicks.\n",
              "      quickchartButtonEl.classList.add('colab-df-spinner');\n",
              "      try {\n",
              "        const charts = await google.colab.kernel.invokeFunction(\n",
              "            'suggestCharts', [key], {});\n",
              "      } catch (error) {\n",
              "        console.error('Error during call to suggestCharts:', error);\n",
              "      }\n",
              "      quickchartButtonEl.classList.remove('colab-df-spinner');\n",
              "      quickchartButtonEl.classList.add('colab-df-quickchart-complete');\n",
              "    }\n",
              "    (() => {\n",
              "      let quickchartButtonEl =\n",
              "        document.querySelector('#df-f37acc0f-1c3f-4573-98bf-225e96493f8f button');\n",
              "      quickchartButtonEl.style.display =\n",
              "        google.colab.kernel.accessAllowed ? 'block' : 'none';\n",
              "    })();\n",
              "  </script>\n",
              "</div>\n",
              "    </div>\n",
              "  </div>\n"
            ]
          },
          "metadata": {},
          "execution_count": 30
        }
      ]
    },
    {
      "cell_type": "markdown",
      "source": [
        "### Data Visualisation"
      ],
      "metadata": {
        "id": "QPMxQbGmHXm-"
      }
    },
    {
      "cell_type": "code",
      "source": [
        "# Plotting a barplot on the count of each category of mail\n",
        "\n",
        "import seaborn as sns\n",
        "\n",
        "print('Label distribution (%):', round(df.Category.value_counts(normalize=True),3)*100)\n",
        "plt.figure(figsize=(8,2))\n",
        "ax=sns.countplot(data=df, y='Category',)\n",
        "for container in ax.containers:\n",
        "    ax.bar_label(container)\n",
        "plt.tight_layout()"
      ],
      "metadata": {
        "colab": {
          "base_uri": "https://localhost:8080/",
          "height": 259
        },
        "id": "rAxIooGNLxk0",
        "outputId": "b85b825d-3229-4780-8c30-350a13918148"
      },
      "execution_count": 31,
      "outputs": [
        {
          "output_type": "stream",
          "name": "stdout",
          "text": [
            "Label distribution (%): 0    87.4\n",
            "1    12.6\n",
            "Name: Category, dtype: float64\n"
          ]
        },
        {
          "output_type": "display_data",
          "data": {
            "text/plain": [
              "<Figure size 800x200 with 1 Axes>"
            ],
            "image/png": "[encoded data removed]"
          },
          "metadata": {}
        }
      ]
    },
    {
      "cell_type": "code",
      "source": [
        "# Pie chart\n",
        "\n",
        "plt.pie(df['Category'].value_counts(), labels=['ham','spam'],autopct=\"%0.2f\")\n",
        "plt.show()"
      ],
      "metadata": {
        "id": "Dns8xjmUO7yC",
        "outputId": "ca8e9525-21d2-4ace-cb84-2a071b8b7caa",
        "colab": {
          "base_uri": "https://localhost:8080/",
          "height": 406
        }
      },
      "execution_count": 32,
      "outputs": [
        {
          "output_type": "display_data",
          "data": {
            "text/plain": [
              "<Figure size 640x480 with 1 Axes>"
            ],
            "image/png": "[encoded data removed]"
          },
          "metadata": {}
        }
      ]
    },
    {
      "cell_type": "code",
      "source": [
        "# Plotting a histogram of text length\n",
        "import plotly.express as px\n",
        "fig = px.histogram(df, x='No.of_Characters', marginal='rug',\n",
        "                   title='Histogram of Text Length')\n",
        "fig.update_layout(\n",
        "    xaxis_title='Length',\n",
        "    yaxis_title='Frequency',\n",
        "    showlegend=True)"
      ],
      "metadata": {
        "colab": {
          "base_uri": "https://localhost:8080/",
          "height": 542
        },
        "id": "TiFCThi8MWn-",
        "outputId": "f8ca28c1-133c-472d-cc98-b760d7afb9a0"
      },
      "execution_count": 33,
      "outputs": [
        {
          "output_type": "display_data",
          "data": {
            "text/html": [
              "<html>\n",
              "<head><meta charset=\"utf-8\" /></head>\n",
              "<body>\n",
              "    <div>            <script src=\"https://cdnjs.cloudflare.com/ajax/libs/mathjax/2.7.5/MathJax.js?config=TeX-AMS-MML_SVG\"></script><script type=\"text/javascript\">if (window.MathJax && window.MathJax.Hub && window.MathJax.Hub.Config) {window.MathJax.Hub.Config({SVG: {font: \"STIX-Web\"}});}</script>                <script type=\"text/javascript\">window.PlotlyConfig = {MathJaxConfig: 'local'};</script>\n",
              "        <script charset=\"utf-8\" src=\"https://cdn.plot.ly/plotly-2.24.1.min.js\"></script>                <div id=\"680beb18-659a-4259-8290-98fd38f912e5\" class=\"plotly-graph-div\" style=\"height:525px; width:100%;\"></div>            <script type=\"text/javascript\">                                    window.PLOTLYENV=window.PLOTLYENV || {};                                    if (document.getElementById(\"680beb18-659a-4259-8290-98fd38f912e5\")) {                    Plotly.newPlot(                        \"680beb18-659a-4259-8290-98fd38f912e5\",                        [{\"alignmentgroup\":\"True\",\"bingroup\":\"x\",\"hovertemplate\":\"No.of_Characters=%{x}\\u003cbr\\u003ecount=%{y}\\u003cextra\\u003e\\u003c\\u002fextra\\u003e\",\"legendgroup\":\"\",\"marker\":{\"color\":\"#636efa\",\"pattern\":{\"shape\":\"\"}},\"name\":\"\",\"offsetgroup\":\"\",\"orientation\":\"v\",\"showlegend\":false,\"x\":[111,29,155,49,61,148,77,160,158,154,109,136,156,196,35,149,26,81,58,156,41,49,53,88,57,144,30,134,75,64,130,189,29,84,159,123,47,28,27,155,82,142,172,19,72,32,45,31,67,148,58,124,80,291,120,76,161,34,22,40,108,48,25,56,110,153,124,161,80,34,46,29,45,42,20,43,73,50,42,76,22,32,32,36,14,55,121,144,42,41,62,195,141,139,107,125,33,51,184,57,81,76,183,44,95,43,82,115,30,40,31,96,159,143,156,153,72,86,144,157,53,156,52,40,20,244,22,107,28,9,39,25,126,162,38,34,46,155,86,33,27,158,42,25,48,159,84,33,30,45,59,25,384,28,27,157,124,146,115,64,85,152,155,51,157,74,67,59,50,94,33,105,61,65,26,146,66,126,159,23,65,24,26,152,34,149,55,88,72,185,37,111,92,28,28,64,131,40,28,84,174,24,25,64,28,86,39,73,26,23,24,31,58,48,41,32,159,25,161,119,143,69,137,30,165,34,109,37,33,48,157,50,65,38,145,145,51,45,83,155,37,78,30,31,146,150,44,179,27,179,38,97,43,36,154,74,3,85,51,121,26,35,47,159,47,133,53,147,155,37,31,8,38,30,47,56,22,19,29,7,121,58,4,148,160,152,37,55,21,22,50,159,67,153,51,67,88,157,91,24,146,57,26,71,138,55,156,134,119,142,41,26,119,46,157,23,51,62,107,157,30,31,79,32,86,22,76,128,232,159,45,57,26,41,28,151,29,34,52,33,85,31,111,78,50,63,148,129,45,202,148,168,85,38,15,31,88,160,50,165,129,26,31,129,34,54,162,157,23,53,131,36,143,300,59,42,41,149,22,31,30,155,47,25,80,22,115,56,102,118,221,204,114,158,39,36,48,77,60,168,51,22,152,75,30,95,24,49,35,29,107,66,159,48,162,24,137,248,25,27,37,69,150,24,80,157,25,73,89,58,36,76,47,104,38,69,66,94,70,73,42,17,13,45,57,105,164,47,117,158,79,142,62,71,175,29,29,148,83,37,44,45,161,50,298,159,125,51,28,34,46,81,28,90,18,54,55,45,146,40,107,50,120,160,32,34,32,16,67,55,43,23,149,21,23,40,170,117,62,166,24,136,99,45,23,25,148,26,146,89,168,117,46,26,28,32,145,57,160,42,111,36,146,50,15,177,160,63,84,84,57,96,169,76,47,130,23,149,32,22,101,281,54,120,138,135,66,40,40,70,160,26,32,51,160,146,103,45,142,92,26,134,37,22,22,33,69,109,36,100,140,51,46,149,63,95,69,110,55,27,34,127,142,148,24,147,24,29,86,87,38,104,59,38,38,22,25,135,87,19,66,140,156,22,107,65,149,137,25,60,103,37,58,87,58,123,67,66,102,130,150,35,8,62,58,143,20,100,51,36,53,88,133,36,37,127,92,80,136,35,97,66,119,65,26,45,157,94,59,140,22,57,43,61,56,54,37,25,21,36,42,154,153,46,34,80,69,24,108,46,30,22,158,87,30,143,169,42,111,18,109,76,73,92,36,54,78,30,40,29,77,109,75,76,30,49,155,160,269,195,37,125,48,39,163,121,147,162,29,38,25,40,226,70,140,47,63,17,101,41,80,137,103,29,51,149,25,149,38,62,181,34,47,40,110,132,101,42,102,65,27,31,82,23,59,133,33,95,96,135,161,151,75,151,103,137,58,89,81,57,32,145,122,143,23,94,8,99,65,71,117,129,158,150,31,72,70,94,48,160,98,31,43,154,71,162,143,25,22,48,33,44,47,26,112,150,19,133,48,107,38,27,129,131,23,156,161,42,27,22,98,89,147,130,152,215,26,66,149,372,155,162,82,73,76,153,24,231,87,72,105,54,58,54,118,88,144,29,136,23,39,35,24,95,73,45,161,159,149,134,154,92,102,31,77,139,158,44,137,132,143,127,276,78,27,79,24,52,68,24,44,24,55,62,104,87,150,49,154,56,126,43,77,49,84,49,162,79,31,155,146,23,160,62,39,67,73,148,88,37,23,56,53,73,80,44,92,35,23,140,106,103,34,77,159,26,47,24,149,133,126,78,132,116,221,59,137,143,24,38,42,24,159,47,41,122,126,26,114,7,34,157,90,85,63,220,41,60,88,31,37,28,24,118,22,210,50,49,87,61,141,54,28,49,53,145,162,53,12,142,73,129,33,47,72,148,107,41,23,45,26,37,150,132,63,108,93,43,46,56,37,124,158,38,53,31,224,156,24,24,52,48,28,43,49,26,58,17,26,127,103,157,34,128,143,51,60,30,103,101,19,114,104,78,135,41,46,136,46,157,24,17,20,84,153,63,155,122,143,50,25,44,65,134,21,47,157,90,135,39,83,44,28,24,67,67,33,24,119,910,158,35,24,153,53,147,72,19,188,71,23,142,160,73,106,80,105,43,68,159,32,159,140,101,31,23,58,37,61,60,54,69,70,72,156,40,153,36,35,34,156,79,114,105,64,25,58,31,120,24,17,41,158,80,85,115,115,25,45,70,22,43,22,140,72,91,70,140,31,52,40,23,54,43,30,39,71,146,73,159,23,26,59,150,167,26,66,35,26,26,49,38,36,18,48,68,73,49,13,63,133,155,13,49,74,138,164,40,20,61,61,147,130,148,37,31,27,41,49,52,124,63,85,50,70,55,119,143,22,43,46,75,159,43,123,31,76,51,27,34,129,24,33,63,96,53,59,52,45,34,53,111,60,152,81,87,84,26,58,46,43,24,97,70,179,120,54,26,156,47,48,147,40,81,116,5,66,81,20,13,37,66,69,55,45,160,25,28,40,156,138,24,70,62,86,174,48,48,25,54,38,46,64,133,36,132,48,62,163,155,48,39,103,83,84,39,122,154,36,140,30,57,54,34,85,139,35,31,126,48,94,27,28,41,42,150,162,82,45,56,41,23,112,38,160,32,47,82,25,51,155,22,30,121,53,84,81,152,131,327,49,65,29,207,114,101,49,108,36,32,50,80,141,151,154,23,40,159,25,22,155,72,203,278,115,27,139,46,115,155,35,82,7,36,73,24,49,48,155,93,99,48,42,24,163,30,44,24,34,144,143,52,82,39,80,35,82,41,27,152,32,33,41,126,153,71,141,124,38,63,47,22,115,71,34,72,134,26,38,141,25,27,159,107,142,13,25,65,33,23,53,159,104,154,81,144,51,153,114,131,159,42,161,153,37,61,74,93,141,85,78,33,90,147,33,32,149,132,154,31,51,18,172,130,76,78,112,58,158,60,154,154,34,122,26,31,26,64,121,56,148,90,110,458,36,28,33,51,157,45,37,159,39,96,15,29,32,152,29,36,54,29,47,172,32,22,150,91,53,24,121,36,212,25,156,59,155,37,79,24,50,75,41,8,36,31,73,127,14,97,73,92,63,58,46,26,143,29,31,37,63,33,145,149,104,58,62,184,611,61,62,64,47,92,338,86,159,30,105,148,30,52,136,152,43,146,144,35,47,25,127,25,143,128,24,43,99,152,37,32,3,153,28,55,28,121,29,115,39,154,148,132,44,71,156,25,147,41,83,45,73,158,47,161,159,165,91,37,160,41,136,24,35,25,31,36,132,156,30,118,82,123,147,22,90,61,148,28,42,75,160,27,14,129,73,88,27,75,11,23,158,73,25,81,51,40,156,18,6,126,46,30,35,174,114,32,23,42,99,96,74,72,76,60,148,31,77,33,25,126,71,75,68,144,59,60,49,66,145,24,58,107,138,53,73,144,63,159,39,67,131,24,136,34,27,55,27,224,39,36,23,34,34,159,74,146,32,155,160,86,32,166,22,26,92,37,46,62,39,50,35,21,107,38,205,158,67,143,121,162,26,68,123,61,33,156,41,50,41,33,154,154,22,53,62,34,151,26,27,52,100,164,132,39,32,158,120,42,46,44,123,24,29,34,29,47,156,47,115,37,64,83,124,24,89,67,44,33,28,37,76,150,45,84,24,332,80,151,34,65,27,24,53,28,22,23,161,191,75,23,29,37,40,93,107,158,52,71,54,51,154,98,89,50,163,135,32,41,58,50,790,34,35,100,46,183,71,30,34,75,55,117,84,97,33,132,64,23,32,128,45,62,155,153,85,32,89,63,163,156,41,110,53,31,27,79,40,143,59,54,84,15,106,30,108,92,87,16,158,51,50,63,34,160,29,41,68,91,2,66,135,30,145,142,35,35,25,23,32,76,45,106,55,160,124,162,46,120,72,57,54,49,29,37,67,41,92,30,68,87,95,23,156,34,74,158,73,76,65,58,133,14,27,143,52,31,39,104,83,34,89,61,153,123,24,49,108,119,129,34,38,32,31,117,45,55,38,143,80,54,62,52,81,36,431,62,375,160,120,52,138,42,63,22,38,50,83,158,84,39,76,53,94,38,38,75,62,59,23,37,45,51,24,43,123,43,36,46,35,59,32,50,27,40,37,84,152,125,45,32,52,39,32,52,40,96,31,159,276,51,26,36,99,162,149,44,23,161,63,60,41,133,30,27,42,40,17,81,38,48,35,13,156,363,40,47,154,161,31,11,44,88,159,47,64,24,95,134,23,32,175,38,35,147,159,51,161,107,38,60,160,37,157,185,28,79,40,113,30,42,41,113,137,382,49,27,28,26,49,39,38,31,162,154,25,154,22,34,45,70,77,32,50,30,114,588,114,147,114,50,158,56,29,39,32,37,63,29,48,59,29,31,37,193,45,154,3,32,131,52,142,104,43,152,73,105,54,108,77,42,132,42,22,30,38,54,56,66,65,93,132,159,112,161,22,68,119,58,60,54,66,67,77,156,76,77,175,157,77,102,39,32,30,108,141,130,58,77,136,88,127,110,51,30,25,96,64,23,70,181,160,31,157,113,110,36,28,23,45,54,39,154,36,155,64,36,160,122,17,33,22,26,144,63,22,89,42,135,78,33,27,52,29,33,23,85,101,110,27,159,58,44,26,91,48,125,183,25,69,72,48,28,66,127,62,26,162,78,151,158,114,23,85,34,41,134,25,30,45,23,93,7,24,167,45,65,48,18,24,33,25,51,96,69,25,108,51,65,160,41,67,30,37,47,120,29,82,36,281,27,52,66,149,121,56,162,66,43,158,127,43,450,102,88,103,158,24,95,74,109,158,482,53,121,31,22,161,38,22,91,66,191,27,67,104,96,38,40,25,24,26,39,152,54,73,80,21,53,444,41,99,34,27,116,24,75,47,81,115,152,52,83,41,22,46,57,158,45,67,152,26,100,53,632,235,26,114,122,45,78,51,82,28,85,46,183,109,28,25,23,74,50,28,44,88,25,29,39,46,64,15,126,105,49,30,23,84,67,14,68,37,26,84,29,201,137,116,168,33,101,45,124,84,42,78,70,121,81,42,245,66,139,150,167,51,55,31,36,28,306,202,160,36,20,6,150,74,19,153,158,45,54,22,42,179,82,100,46,158,32,71,34,104,9,95,29,155,24,41,106,32,112,47,28,30,289,80,70,101,122,59,58,21,27,35,31,156,66,70,65,95,32,23,36,144,30,28,83,40,32,61,116,160,153,36,36,37,54,46,134,65,131,37,39,44,82,23,155,153,153,44,117,55,126,109,65,16,50,46,4,35,99,57,136,56,62,25,38,156,32,49,243,42,41,81,173,9,136,9,25,27,109,45,115,65,139,28,154,30,53,59,44,26,85,23,27,47,147,49,32,107,46,96,157,50,63,29,87,27,33,33,27,26,33,34,130,165,29,30,140,34,163,130,117,45,27,153,41,136,56,64,50,136,27,106,66,54,158,88,54,56,153,27,158,95,95,52,80,63,25,73,169,169,57,56,156,113,50,160,23,24,118,101,54,96,59,166,14,46,46,84,71,20,44,46,154,166,28,53,82,26,48,29,41,99,55,15,119,154,25,29,29,28,89,56,53,37,26,129,69,21,89,37,39,102,50,200,41,155,38,26,141,29,16,23,124,46,31,28,118,124,29,63,106,121,44,22,22,116,78,59,43,131,124,45,142,32,79,63,155,29,145,33,22,32,10,158,61,57,36,52,133,55,57,68,160,123,111,137,37,152,74,47,158,149,160,26,35,111,29,131,28,23,52,53,131,11,88,166,42,32,157,151,74,39,26,57,54,94,276,82,160,60,51,52,138,104,29,142,40,152,130,15,31,52,234,50,103,140,25,49,47,27,77,28,34,22,95,22,54,67,73,56,32,25,163,66,121,55,139,126,27,141,111,125,6,142,137,46,89,64,148,77,47,42,29,37,86,47,33,23,67,32,31,25,11,129,33,30,183,156,47,32,137,101,59,43,48,95,142,100,327,29,36,87,35,62,32,24,120,112,57,26,110,147,32,151,44,30,135,94,28,38,46,23,65,24,42,45,54,26,60,159,141,35,32,143,60,107,96,30,147,41,30,157,71,112,43,14,49,47,134,42,23,30,108,110,119,37,75,152,46,51,461,127,44,34,72,30,27,48,90,52,47,22,41,37,173,95,69,27,47,32,48,63,295,39,120,43,169,101,32,150,40,85,135,49,32,29,24,74,141,242,40,66,25,147,26,27,121,23,38,34,55,46,22,42,35,53,112,39,38,129,67,147,61,38,82,15,153,42,155,52,140,54,49,67,139,110,37,40,25,28,48,58,66,26,297,148,149,154,112,36,35,31,70,33,35,23,76,24,41,48,59,139,19,51,122,53,22,156,155,25,39,104,45,18,19,144,30,91,156,45,42,36,113,141,38,43,29,61,33,41,60,44,32,87,66,152,56,55,35,31,38,59,114,27,55,30,33,92,59,160,130,112,52,65,59,153,41,137,148,35,69,68,68,49,96,46,47,50,110,97,46,90,13,41,65,134,145,131,33,14,105,42,159,40,47,80,72,157,150,33,33,32,281,142,102,34,73,149,20,22,92,86,28,40,90,47,63,147,47,151,37,41,24,29,50,35,38,41,118,57,115,157,51,82,29,23,72,173,72,33,111,34,86,121,61,14,120,78,50,27,79,84,62,33,68,107,37,132,139,105,69,85,38,114,151,80,80,157,134,35,40,165,42,153,320,93,148,50,72,158,54,113,70,77,72,33,32,91,22,148,126,28,52,36,126,47,27,41,129,140,83,41,28,34,39,54,90,35,34,91,52,45,54,77,22,368,28,82,55,68,29,115,67,78,25,104,44,18,47,31,39,40,69,79,117,38,65,23,3,151,58,24,31,33,150,54,60,160,9,71,28,41,29,81,31,129,11,127,28,47,59,31,143,65,22,84,157,120,131,40,52,34,23,48,38,136,157,153,64,160,158,161,31,86,34,58,193,34,124,106,152,65,105,51,29,25,78,30,139,153,135,44,142,49,54,19,34,107,24,274,158,28,52,153,131,155,101,73,8,57,106,56,49,176,92,31,38,66,180,63,59,25,24,148,149,165,32,29,22,105,126,31,140,161,75,121,75,95,156,114,26,48,25,38,7,36,189,125,55,38,29,46,62,32,194,287,37,42,70,77,115,15,49,53,92,33,150,157,87,36,134,26,24,97,153,139,45,69,40,30,40,84,25,140,152,85,69,23,25,24,30,162,28,43,39,157,83,68,73,133,47,322,59,134,42,31,145,30,36,149,29,59,154,47,87,126,128,12,53,41,155,99,72,123,69,39,17,157,48,38,115,30,38,25,28,46,72,41,31,59,28,30,55,32,138,125,13,81,155,74,34,166,84,190,42,37,87,43,36,157,38,27,21,73,191,104,34,152,31,154,128,98,107,27,156,59,57,56,77,44,46,53,32,31,55,40,51,39,43,35,133,160,48,37,169,135,33,52,29,29,103,55,24,54,43,179,40,155,83,26,38,82,38,26,25,24,58,90,128,70,30,159,44,69,42,21,158,127,39,47,65,36,37,31,18,86,159,92,39,28,66,197,35,37,38,34,156,34,30,45,137,51,293,37,33,33,49,263,50,26,13,58,62,70,50,38,62,152,147,158,45,22,26,47,48,67,30,110,34,65,137,23,35,22,75,81,37,71,21,25,159,302,86,23,198,32,30,39,98,27,155,37,157,156,54,39,33,45,144,180,61,158,39,41,74,204,88,159,74,37,39,35,43,42,37,30,82,32,28,120,55,67,244,24,159,159,70,57,162,139,40,86,116,42,54,33,30,70,94,62,72,142,85,66,32,55,58,16,71,38,44,77,148,152,32,85,22,139,38,109,32,107,198,104,44,42,61,43,46,76,61,76,46,61,22,50,44,257,159,96,96,29,63,53,34,33,151,65,151,30,153,19,121,36,63,50,28,57,128,145,32,38,86,37,116,77,17,38,13,88,64,205,158,78,121,25,46,28,126,46,23,84,72,30,22,48,24,46,86,158,31,25,102,35,48,60,97,36,71,83,153,38,82,114,94,52,84,33,42,24,54,23,138,45,37,44,135,73,202,140,146,13,29,53,132,35,96,73,18,55,60,83,111,40,63,104,133,137,53,70,67,22,63,95,143,33,159,74,60,220,55,127,27,162,112,30,61,73,39,103,48,159,34,37,89,31,22,36,23,45,42,40,28,84,52,78,54,159,23,93,24,22,23,65,21,29,47,156,66,32,34,153,23,32,69,180,255,31,59,156,159,138,67,37,122,29,97,149,141,76,84,56,106,36,84,114,96,35,46,276,25,153,74,154,27,148,63,147,135,154,70,163,24,85,49,26,48,35,24,167,48,80,39,122,29,32,75,141,25,60,154,230,94,87,116,126,28,160,60,153,55,157,36,34,77,147,152,55,54,34,22,111,89,153,67,146,48,57,161,139,160,158,90,29,22,38,144,92,84,74,40,63,134,35,35,112,54,27,111,157,124,77,37,71,74,28,34,35,67,41,144,83,38,61,32,62,79,158,37,23,43,108,148,81,154,85,54,157,22,34,69,74,102,22,72,32,77,26,29,52,60,44,77,65,31,73,115,131,31,24,71,23,79,97,157,38,44,88,155,36,135,71,27,49,105,74,46,23,183,118,92,38,157,87,152,45,24,69,141,114,132,85,75,32,37,122,136,19,106,67,51,40,40,28,163,152,17,138,60,28,142,139,80,34,290,25,5,63,74,81,138,104,82,74,15,77,37,129,54,63,66,329,40,86,82,24,111,156,36,35,112,72,61,27,46,32,43,161,154,55,27,35,39,70,115,68,29,27,34,66,21,139,150,49,19,40,113,44,51,33,157,163,46,142,126,36,117,94,52,180,39,87,47,70,121,14,135,133,23,64,146,144,25,45,36,101,38,142,51,163,156,146,27,41,25,30,72,60,74,61,22,408,56,31,45,138,22,38,53,132,93,283,83,36,60,36,103,65,149,200,26,124,65,39,83,42,35,23,41,72,66,43,46,116,56,55,137,29,96,36,49,61,39,141,30,30,31,73,25,29,381,69,26,36,68,50,89,151,237,236,95,85,99,23,26,160,97,39,47,24,65,33,76,49,15,22,51,28,69,159,44,24,20,126,41,40,162,171,28,62,71,109,135,125,158,17,21,25,74,73,26,149,24,30,62,132,43,51,42,58,125,94,104,94,39,26,60,22,158,163,58,120,47,110,205,73,160,31,29,42,48,137,105,155,143,45,35,78,159,126,73,166,50,142,120,54,23,52,90,23,24,156,25,73,34,208,56,112,35,156,34,30,148,24,46,115,159,152,34,142,75,95,77,158,79,229,44,70,53,106,30,86,38,67,39,97,144,30,73,35,72,134,106,35,22,31,19,54,29,101,108,22,89,75,34,27,34,37,172,52,24,54,166,56,41,89,43,43,43,26,66,55,49,7,143,27,33,155,157,38,139,158,22,48,80,26,136,106,56,13,33,30,31,35,24,26,49,70,59,64,152,109,25,160,24,36,55,36,66,25,37,44,63,33,17,40,43,10,51,154,147,155,50,64,9,22,10,124,32,24,95,35,59,73,88,77,64,76,55,26,112,77,102,79,42,59,32,153,70,70,143,124,21,77,25,36,75,36,48,175,237,23,105,62,22,42,79,133,91,99,160,62,155,34,40,157,133,139,56,93,31,26,83,76,22,89,42,120,62,24,46,61,53,73,87,74,58,80,32,147,51,147,45,29,157,56,68,22,22,84,43,62,136,158,46,47,151,240,30,114,32,43,153,110,201,151,86,46,41,29,98,86,15,37,69,42,152,7,111,42,29,68,62,69,145,38,46,153,29,121,33,42,89,74,135,71,45,37,136,33,54,43,81,53,76,22,27,109,12,44,58,121,80,22,159,58,40,299,39,158,82,35,66,27,32,85,137,126,75,92,27,35,113,31,22,166,171,76,158,22,132,44,44,47,146,44,134,36,415,181,32,22,40,24,160,80,27,155,237,134,33,80,45,48,148,38,49,38,48,22,98,124,149,37,22,33,83,24,38,129,85,46,87,106,95,86,107,40,137,33,146,136,140,100,64,73,146,39,32,65,41,34,153,66,160,137,133,125,132,44,42,142,62,54,54,90,111,22,22,57,24,138,38,32,70,25,96,177,97,27,9,42,61,51,28,22,26,78,51,42,169,247,81,15,28,28,78,60,156,59,59,146,73,47,154,152,31,66,19,57,100,22,44,146,133,67,126,48,43,69,27,72,28,133,98,135,70,109,41,111,89,31,89,43,46,111,27,175,42,138,50,145,30,49,91,36,30,63,119,132,26,82,160,23,137,53,132,62,74,158,93,29,43,119,256,51,21,51,85,94,22,31,24,65,32,120,36,71,70,149,166,32,41,153,98,47,57,33,47,27,159,91,39,156,53,88,28,43,44,32,73,30,154,107,101,31,49,37,70,114,116,47,27,87,164,88,228,102,133,88,36,77,104,156,87,28,130,79,184,53,31,85,77,23,76,28,30,75,36,23,33,99,24,67,24,85,46,4,55,86,119,101,157,49,35,48,43,27,18,142,156,69,37,39,134,150,85,116,42,151,40,61,160,109,30,329,91,31,29,22,38,41,51,35,89,51,40,112,71,146,35,29,143,48,21,98,155,32,43,48,19,133,66,58,119,38,45,127,99,77,55,23,21,33,23,82,127,74,23,65,26,152,45,3,145,51,45,152,42,101,29,63,168,144,35,38,49,31,40,113,119,50,23,47,155,38,157,51,32,125,36,55,23,87,71,94,99,51,23,162,82,32,146,121,40,28,97,159,28,36,64,30,26,189,160,26,29,24,29,47,72,37,125,52,192,126,39,25,35,33,38,156,77,38,17,133,40,11,45,67,40,84,100,145,30,125,133,56,42,70,50,112,157,135,156,46,139,38,46,44,116,90,160,80,48,42,64,88,161,147,101,40,26,23,59,104,41,50,40,29,49,45,163,86,129,40,69,28,34,162,23,39,82,36,80,81,10,90,112,40,72,82,37,40,39,84,45,106,32,97,102,34,22,51,59,33,26,28,36,44,45,90,99,163,70,68,104,37,51,70,23,251,40,38,44,101,112,120,51,147,17,49,89,85,143,26,79,35,122,54,74,25,61,35,31,149,79,169,135,33,145,43,65,161,65,155,118,58,34,45,155,148,36,82,40,127,149,38,58,61,39,25,69,33,245,139,166,122,56,32,35,35,23,103,134,68,49,25,64,60,40,113,28,54,90,158,160,21,40,38,154,45,42,160,34,87,43,51,91,98,153,63,273,66,33,70,96,19,67,12,147,161,37,57,125,26],\"xaxis\":\"x\",\"yaxis\":\"y\",\"type\":\"histogram\"},{\"alignmentgroup\":\"True\",\"boxpoints\":\"all\",\"fillcolor\":\"rgba(255,255,255,0)\",\"hoveron\":\"points\",\"hovertemplate\":\"No.of_Characters=%{x}\\u003cextra\\u003e\\u003c\\u002fextra\\u003e\",\"jitter\":0,\"legendgroup\":\"\",\"line\":{\"color\":\"rgba(255,255,255,0)\"},\"marker\":{\"color\":\"#636efa\",\"symbol\":\"line-ns-open\"},\"name\":\"\",\"offsetgroup\":\"\",\"showlegend\":false,\"x\":[111,29,155,49,61,148,77,160,158,154,109,136,156,196,35,149,26,81,58,156,41,49,53,88,57,144,30,134,75,64,130,189,29,84,159,123,47,28,27,155,82,142,172,19,72,32,45,31,67,148,58,124,80,291,120,76,161,34,22,40,108,48,25,56,110,153,124,161,80,34,46,29,45,42,20,43,73,50,42,76,22,32,32,36,14,55,121,144,42,41,62,195,141,139,107,125,33,51,184,57,81,76,183,44,95,43,82,115,30,40,31,96,159,143,156,153,72,86,144,157,53,156,52,40,20,244,22,107,28,9,39,25,126,162,38,34,46,155,86,33,27,158,42,25,48,159,84,33,30,45,59,25,384,28,27,157,124,146,115,64,85,152,155,51,157,74,67,59,50,94,33,105,61,65,26,146,66,126,159,23,65,24,26,152,34,149,55,88,72,185,37,111,92,28,28,64,131,40,28,84,174,24,25,64,28,86,39,73,26,23,24,31,58,48,41,32,159,25,161,119,143,69,137,30,165,34,109,37,33,48,157,50,65,38,145,145,51,45,83,155,37,78,30,31,146,150,44,179,27,179,38,97,43,36,154,74,3,85,51,121,26,35,47,159,47,133,53,147,155,37,31,8,38,30,47,56,22,19,29,7,121,58,4,148,160,152,37,55,21,22,50,159,67,153,51,67,88,157,91,24,146,57,26,71,138,55,156,134,119,142,41,26,119,46,157,23,51,62,107,157,30,31,79,32,86,22,76,128,232,159,45,57,26,41,28,151,29,34,52,33,85,31,111,78,50,63,148,129,45,202,148,168,85,38,15,31,88,160,50,165,129,26,31,129,34,54,162,157,23,53,131,36,143,300,59,42,41,149,22,31,30,155,47,25,80,22,115,56,102,118,221,204,114,158,39,36,48,77,60,168,51,22,152,75,30,95,24,49,35,29,107,66,159,48,162,24,137,248,25,27,37,69,150,24,80,157,25,73,89,58,36,76,47,104,38,69,66,94,70,73,42,17,13,45,57,105,164,47,117,158,79,142,62,71,175,29,29,148,83,37,44,45,161,50,298,159,125,51,28,34,46,81,28,90,18,54,55,45,146,40,107,50,120,160,32,34,32,16,67,55,43,23,149,21,23,40,170,117,62,166,24,136,99,45,23,25,148,26,146,89,168,117,46,26,28,32,145,57,160,42,111,36,146,50,15,177,160,63,84,84,57,96,169,76,47,130,23,149,32,22,101,281,54,120,138,135,66,40,40,70,160,26,32,51,160,146,103,45,142,92,26,134,37,22,22,33,69,109,36,100,140,51,46,149,63,95,69,110,55,27,34,127,142,148,24,147,24,29,86,87,38,104,59,38,38,22,25,135,87,19,66,140,156,22,107,65,149,137,25,60,103,37,58,87,58,123,67,66,102,130,150,35,8,62,58,143,20,100,51,36,53,88,133,36,37,127,92,80,136,35,97,66,119,65,26,45,157,94,59,140,22,57,43,61,56,54,37,25,21,36,42,154,153,46,34,80,69,24,108,46,30,22,158,87,30,143,169,42,111,18,109,76,73,92,36,54,78,30,40,29,77,109,75,76,30,49,155,160,269,195,37,125,48,39,163,121,147,162,29,38,25,40,226,70,140,47,63,17,101,41,80,137,103,29,51,149,25,149,38,62,181,34,47,40,110,132,101,42,102,65,27,31,82,23,59,133,33,95,96,135,161,151,75,151,103,137,58,89,81,57,32,145,122,143,23,94,8,99,65,71,117,129,158,150,31,72,70,94,48,160,98,31,43,154,71,162,143,25,22,48,33,44,47,26,112,150,19,133,48,107,38,27,129,131,23,156,161,42,27,22,98,89,147,130,152,215,26,66,149,372,155,162,82,73,76,153,24,231,87,72,105,54,58,54,118,88,144,29,136,23,39,35,24,95,73,45,161,159,149,134,154,92,102,31,77,139,158,44,137,132,143,127,276,78,27,79,24,52,68,24,44,24,55,62,104,87,150,49,154,56,126,43,77,49,84,49,162,79,31,155,146,23,160,62,39,67,73,148,88,37,23,56,53,73,80,44,92,35,23,140,106,103,34,77,159,26,47,24,149,133,126,78,132,116,221,59,137,143,24,38,42,24,159,47,41,122,126,26,114,7,34,157,90,85,63,220,41,60,88,31,37,28,24,118,22,210,50,49,87,61,141,54,28,49,53,145,162,53,12,142,73,129,33,47,72,148,107,41,23,45,26,37,150,132,63,108,93,43,46,56,37,124,158,38,53,31,224,156,24,24,52,48,28,43,49,26,58,17,26,127,103,157,34,128,143,51,60,30,103,101,19,114,104,78,135,41,46,136,46,157,24,17,20,84,153,63,155,122,143,50,25,44,65,134,21,47,157,90,135,39,83,44,28,24,67,67,33,24,119,910,158,35,24,153,53,147,72,19,188,71,23,142,160,73,106,80,105,43,68,159,32,159,140,101,31,23,58,37,61,60,54,69,70,72,156,40,153,36,35,34,156,79,114,105,64,25,58,31,120,24,17,41,158,80,85,115,115,25,45,70,22,43,22,140,72,91,70,140,31,52,40,23,54,43,30,39,71,146,73,159,23,26,59,150,167,26,66,35,26,26,49,38,36,18,48,68,73,49,13,63,133,155,13,49,74,138,164,40,20,61,61,147,130,148,37,31,27,41,49,52,124,63,85,50,70,55,119,143,22,43,46,75,159,43,123,31,76,51,27,34,129,24,33,63,96,53,59,52,45,34,53,111,60,152,81,87,84,26,58,46,43,24,97,70,179,120,54,26,156,47,48,147,40,81,116,5,66,81,20,13,37,66,69,55,45,160,25,28,40,156,138,24,70,62,86,174,48,48,25,54,38,46,64,133,36,132,48,62,163,155,48,39,103,83,84,39,122,154,36,140,30,57,54,34,85,139,35,31,126,48,94,27,28,41,42,150,162,82,45,56,41,23,112,38,160,32,47,82,25,51,155,22,30,121,53,84,81,152,131,327,49,65,29,207,114,101,49,108,36,32,50,80,141,151,154,23,40,159,25,22,155,72,203,278,115,27,139,46,115,155,35,82,7,36,73,24,49,48,155,93,99,48,42,24,163,30,44,24,34,144,143,52,82,39,80,35,82,41,27,152,32,33,41,126,153,71,141,124,38,63,47,22,115,71,34,72,134,26,38,141,25,27,159,107,142,13,25,65,33,23,53,159,104,154,81,144,51,153,114,131,159,42,161,153,37,61,74,93,141,85,78,33,90,147,33,32,149,132,154,31,51,18,172,130,76,78,112,58,158,60,154,154,34,122,26,31,26,64,121,56,148,90,110,458,36,28,33,51,157,45,37,159,39,96,15,29,32,152,29,36,54,29,47,172,32,22,150,91,53,24,121,36,212,25,156,59,155,37,79,24,50,75,41,8,36,31,73,127,14,97,73,92,63,58,46,26,143,29,31,37,63,33,145,149,104,58,62,184,611,61,62,64,47,92,338,86,159,30,105,148,30,52,136,152,43,146,144,35,47,25,127,25,143,128,24,43,99,152,37,32,3,153,28,55,28,121,29,115,39,154,148,132,44,71,156,25,147,41,83,45,73,158,47,161,159,165,91,37,160,41,136,24,35,25,31,36,132,156,30,118,82,123,147,22,90,61,148,28,42,75,160,27,14,129,73,88,27,75,11,23,158,73,25,81,51,40,156,18,6,126,46,30,35,174,114,32,23,42,99,96,74,72,76,60,148,31,77,33,25,126,71,75,68,144,59,60,49,66,145,24,58,107,138,53,73,144,63,159,39,67,131,24,136,34,27,55,27,224,39,36,23,34,34,159,74,146,32,155,160,86,32,166,22,26,92,37,46,62,39,50,35,21,107,38,205,158,67,143,121,162,26,68,123,61,33,156,41,50,41,33,154,154,22,53,62,34,151,26,27,52,100,164,132,39,32,158,120,42,46,44,123,24,29,34,29,47,156,47,115,37,64,83,124,24,89,67,44,33,28,37,76,150,45,84,24,332,80,151,34,65,27,24,53,28,22,23,161,191,75,23,29,37,40,93,107,158,52,71,54,51,154,98,89,50,163,135,32,41,58,50,790,34,35,100,46,183,71,30,34,75,55,117,84,97,33,132,64,23,32,128,45,62,155,153,85,32,89,63,163,156,41,110,53,31,27,79,40,143,59,54,84,15,106,30,108,92,87,16,158,51,50,63,34,160,29,41,68,91,2,66,135,30,145,142,35,35,25,23,32,76,45,106,55,160,124,162,46,120,72,57,54,49,29,37,67,41,92,30,68,87,95,23,156,34,74,158,73,76,65,58,133,14,27,143,52,31,39,104,83,34,89,61,153,123,24,49,108,119,129,34,38,32,31,117,45,55,38,143,80,54,62,52,81,36,431,62,375,160,120,52,138,42,63,22,38,50,83,158,84,39,76,53,94,38,38,75,62,59,23,37,45,51,24,43,123,43,36,46,35,59,32,50,27,40,37,84,152,125,45,32,52,39,32,52,40,96,31,159,276,51,26,36,99,162,149,44,23,161,63,60,41,133,30,27,42,40,17,81,38,48,35,13,156,363,40,47,154,161,31,11,44,88,159,47,64,24,95,134,23,32,175,38,35,147,159,51,161,107,38,60,160,37,157,185,28,79,40,113,30,42,41,113,137,382,49,27,28,26,49,39,38,31,162,154,25,154,22,34,45,70,77,32,50,30,114,588,114,147,114,50,158,56,29,39,32,37,63,29,48,59,29,31,37,193,45,154,3,32,131,52,142,104,43,152,73,105,54,108,77,42,132,42,22,30,38,54,56,66,65,93,132,159,112,161,22,68,119,58,60,54,66,67,77,156,76,77,175,157,77,102,39,32,30,108,141,130,58,77,136,88,127,110,51,30,25,96,64,23,70,181,160,31,157,113,110,36,28,23,45,54,39,154,36,155,64,36,160,122,17,33,22,26,144,63,22,89,42,135,78,33,27,52,29,33,23,85,101,110,27,159,58,44,26,91,48,125,183,25,69,72,48,28,66,127,62,26,162,78,151,158,114,23,85,34,41,134,25,30,45,23,93,7,24,167,45,65,48,18,24,33,25,51,96,69,25,108,51,65,160,41,67,30,37,47,120,29,82,36,281,27,52,66,149,121,56,162,66,43,158,127,43,450,102,88,103,158,24,95,74,109,158,482,53,121,31,22,161,38,22,91,66,191,27,67,104,96,38,40,25,24,26,39,152,54,73,80,21,53,444,41,99,34,27,116,24,75,47,81,115,152,52,83,41,22,46,57,158,45,67,152,26,100,53,632,235,26,114,122,45,78,51,82,28,85,46,183,109,28,25,23,74,50,28,44,88,25,29,39,46,64,15,126,105,49,30,23,84,67,14,68,37,26,84,29,201,137,116,168,33,101,45,124,84,42,78,70,121,81,42,245,66,139,150,167,51,55,31,36,28,306,202,160,36,20,6,150,74,19,153,158,45,54,22,42,179,82,100,46,158,32,71,34,104,9,95,29,155,24,41,106,32,112,47,28,30,289,80,70,101,122,59,58,21,27,35,31,156,66,70,65,95,32,23,36,144,30,28,83,40,32,61,116,160,153,36,36,37,54,46,134,65,131,37,39,44,82,23,155,153,153,44,117,55,126,109,65,16,50,46,4,35,99,57,136,56,62,25,38,156,32,49,243,42,41,81,173,9,136,9,25,27,109,45,115,65,139,28,154,30,53,59,44,26,85,23,27,47,147,49,32,107,46,96,157,50,63,29,87,27,33,33,27,26,33,34,130,165,29,30,140,34,163,130,117,45,27,153,41,136,56,64,50,136,27,106,66,54,158,88,54,56,153,27,158,95,95,52,80,63,25,73,169,169,57,56,156,113,50,160,23,24,118,101,54,96,59,166,14,46,46,84,71,20,44,46,154,166,28,53,82,26,48,29,41,99,55,15,119,154,25,29,29,28,89,56,53,37,26,129,69,21,89,37,39,102,50,200,41,155,38,26,141,29,16,23,124,46,31,28,118,124,29,63,106,121,44,22,22,116,78,59,43,131,124,45,142,32,79,63,155,29,145,33,22,32,10,158,61,57,36,52,133,55,57,68,160,123,111,137,37,152,74,47,158,149,160,26,35,111,29,131,28,23,52,53,131,11,88,166,42,32,157,151,74,39,26,57,54,94,276,82,160,60,51,52,138,104,29,142,40,152,130,15,31,52,234,50,103,140,25,49,47,27,77,28,34,22,95,22,54,67,73,56,32,25,163,66,121,55,139,126,27,141,111,125,6,142,137,46,89,64,148,77,47,42,29,37,86,47,33,23,67,32,31,25,11,129,33,30,183,156,47,32,137,101,59,43,48,95,142,100,327,29,36,87,35,62,32,24,120,112,57,26,110,147,32,151,44,30,135,94,28,38,46,23,65,24,42,45,54,26,60,159,141,35,32,143,60,107,96,30,147,41,30,157,71,112,43,14,49,47,134,42,23,30,108,110,119,37,75,152,46,51,461,127,44,34,72,30,27,48,90,52,47,22,41,37,173,95,69,27,47,32,48,63,295,39,120,43,169,101,32,150,40,85,135,49,32,29,24,74,141,242,40,66,25,147,26,27,121,23,38,34,55,46,22,42,35,53,112,39,38,129,67,147,61,38,82,15,153,42,155,52,140,54,49,67,139,110,37,40,25,28,48,58,66,26,297,148,149,154,112,36,35,31,70,33,35,23,76,24,41,48,59,139,19,51,122,53,22,156,155,25,39,104,45,18,19,144,30,91,156,45,42,36,113,141,38,43,29,61,33,41,60,44,32,87,66,152,56,55,35,31,38,59,114,27,55,30,33,92,59,160,130,112,52,65,59,153,41,137,148,35,69,68,68,49,96,46,47,50,110,97,46,90,13,41,65,134,145,131,33,14,105,42,159,40,47,80,72,157,150,33,33,32,281,142,102,34,73,149,20,22,92,86,28,40,90,47,63,147,47,151,37,41,24,29,50,35,38,41,118,57,115,157,51,82,29,23,72,173,72,33,111,34,86,121,61,14,120,78,50,27,79,84,62,33,68,107,37,132,139,105,69,85,38,114,151,80,80,157,134,35,40,165,42,153,320,93,148,50,72,158,54,113,70,77,72,33,32,91,22,148,126,28,52,36,126,47,27,41,129,140,83,41,28,34,39,54,90,35,34,91,52,45,54,77,22,368,28,82,55,68,29,115,67,78,25,104,44,18,47,31,39,40,69,79,117,38,65,23,3,151,58,24,31,33,150,54,60,160,9,71,28,41,29,81,31,129,11,127,28,47,59,31,143,65,22,84,157,120,131,40,52,34,23,48,38,136,157,153,64,160,158,161,31,86,34,58,193,34,124,106,152,65,105,51,29,25,78,30,139,153,135,44,142,49,54,19,34,107,24,274,158,28,52,153,131,155,101,73,8,57,106,56,49,176,92,31,38,66,180,63,59,25,24,148,149,165,32,29,22,105,126,31,140,161,75,121,75,95,156,114,26,48,25,38,7,36,189,125,55,38,29,46,62,32,194,287,37,42,70,77,115,15,49,53,92,33,150,157,87,36,134,26,24,97,153,139,45,69,40,30,40,84,25,140,152,85,69,23,25,24,30,162,28,43,39,157,83,68,73,133,47,322,59,134,42,31,145,30,36,149,29,59,154,47,87,126,128,12,53,41,155,99,72,123,69,39,17,157,48,38,115,30,38,25,28,46,72,41,31,59,28,30,55,32,138,125,13,81,155,74,34,166,84,190,42,37,87,43,36,157,38,27,21,73,191,104,34,152,31,154,128,98,107,27,156,59,57,56,77,44,46,53,32,31,55,40,51,39,43,35,133,160,48,37,169,135,33,52,29,29,103,55,24,54,43,179,40,155,83,26,38,82,38,26,25,24,58,90,128,70,30,159,44,69,42,21,158,127,39,47,65,36,37,31,18,86,159,92,39,28,66,197,35,37,38,34,156,34,30,45,137,51,293,37,33,33,49,263,50,26,13,58,62,70,50,38,62,152,147,158,45,22,26,47,48,67,30,110,34,65,137,23,35,22,75,81,37,71,21,25,159,302,86,23,198,32,30,39,98,27,155,37,157,156,54,39,33,45,144,180,61,158,39,41,74,204,88,159,74,37,39,35,43,42,37,30,82,32,28,120,55,67,244,24,159,159,70,57,162,139,40,86,116,42,54,33,30,70,94,62,72,142,85,66,32,55,58,16,71,38,44,77,148,152,32,85,22,139,38,109,32,107,198,104,44,42,61,43,46,76,61,76,46,61,22,50,44,257,159,96,96,29,63,53,34,33,151,65,151,30,153,19,121,36,63,50,28,57,128,145,32,38,86,37,116,77,17,38,13,88,64,205,158,78,121,25,46,28,126,46,23,84,72,30,22,48,24,46,86,158,31,25,102,35,48,60,97,36,71,83,153,38,82,114,94,52,84,33,42,24,54,23,138,45,37,44,135,73,202,140,146,13,29,53,132,35,96,73,18,55,60,83,111,40,63,104,133,137,53,70,67,22,63,95,143,33,159,74,60,220,55,127,27,162,112,30,61,73,39,103,48,159,34,37,89,31,22,36,23,45,42,40,28,84,52,78,54,159,23,93,24,22,23,65,21,29,47,156,66,32,34,153,23,32,69,180,255,31,59,156,159,138,67,37,122,29,97,149,141,76,84,56,106,36,84,114,96,35,46,276,25,153,74,154,27,148,63,147,135,154,70,163,24,85,49,26,48,35,24,167,48,80,39,122,29,32,75,141,25,60,154,230,94,87,116,126,28,160,60,153,55,157,36,34,77,147,152,55,54,34,22,111,89,153,67,146,48,57,161,139,160,158,90,29,22,38,144,92,84,74,40,63,134,35,35,112,54,27,111,157,124,77,37,71,74,28,34,35,67,41,144,83,38,61,32,62,79,158,37,23,43,108,148,81,154,85,54,157,22,34,69,74,102,22,72,32,77,26,29,52,60,44,77,65,31,73,115,131,31,24,71,23,79,97,157,38,44,88,155,36,135,71,27,49,105,74,46,23,183,118,92,38,157,87,152,45,24,69,141,114,132,85,75,32,37,122,136,19,106,67,51,40,40,28,163,152,17,138,60,28,142,139,80,34,290,25,5,63,74,81,138,104,82,74,15,77,37,129,54,63,66,329,40,86,82,24,111,156,36,35,112,72,61,27,46,32,43,161,154,55,27,35,39,70,115,68,29,27,34,66,21,139,150,49,19,40,113,44,51,33,157,163,46,142,126,36,117,94,52,180,39,87,47,70,121,14,135,133,23,64,146,144,25,45,36,101,38,142,51,163,156,146,27,41,25,30,72,60,74,61,22,408,56,31,45,138,22,38,53,132,93,283,83,36,60,36,103,65,149,200,26,124,65,39,83,42,35,23,41,72,66,43,46,116,56,55,137,29,96,36,49,61,39,141,30,30,31,73,25,29,381,69,26,36,68,50,89,151,237,236,95,85,99,23,26,160,97,39,47,24,65,33,76,49,15,22,51,28,69,159,44,24,20,126,41,40,162,171,28,62,71,109,135,125,158,17,21,25,74,73,26,149,24,30,62,132,43,51,42,58,125,94,104,94,39,26,60,22,158,163,58,120,47,110,205,73,160,31,29,42,48,137,105,155,143,45,35,78,159,126,73,166,50,142,120,54,23,52,90,23,24,156,25,73,34,208,56,112,35,156,34,30,148,24,46,115,159,152,34,142,75,95,77,158,79,229,44,70,53,106,30,86,38,67,39,97,144,30,73,35,72,134,106,35,22,31,19,54,29,101,108,22,89,75,34,27,34,37,172,52,24,54,166,56,41,89,43,43,43,26,66,55,49,7,143,27,33,155,157,38,139,158,22,48,80,26,136,106,56,13,33,30,31,35,24,26,49,70,59,64,152,109,25,160,24,36,55,36,66,25,37,44,63,33,17,40,43,10,51,154,147,155,50,64,9,22,10,124,32,24,95,35,59,73,88,77,64,76,55,26,112,77,102,79,42,59,32,153,70,70,143,124,21,77,25,36,75,36,48,175,237,23,105,62,22,42,79,133,91,99,160,62,155,34,40,157,133,139,56,93,31,26,83,76,22,89,42,120,62,24,46,61,53,73,87,74,58,80,32,147,51,147,45,29,157,56,68,22,22,84,43,62,136,158,46,47,151,240,30,114,32,43,153,110,201,151,86,46,41,29,98,86,15,37,69,42,152,7,111,42,29,68,62,69,145,38,46,153,29,121,33,42,89,74,135,71,45,37,136,33,54,43,81,53,76,22,27,109,12,44,58,121,80,22,159,58,40,299,39,158,82,35,66,27,32,85,137,126,75,92,27,35,113,31,22,166,171,76,158,22,132,44,44,47,146,44,134,36,415,181,32,22,40,24,160,80,27,155,237,134,33,80,45,48,148,38,49,38,48,22,98,124,149,37,22,33,83,24,38,129,85,46,87,106,95,86,107,40,137,33,146,136,140,100,64,73,146,39,32,65,41,34,153,66,160,137,133,125,132,44,42,142,62,54,54,90,111,22,22,57,24,138,38,32,70,25,96,177,97,27,9,42,61,51,28,22,26,78,51,42,169,247,81,15,28,28,78,60,156,59,59,146,73,47,154,152,31,66,19,57,100,22,44,146,133,67,126,48,43,69,27,72,28,133,98,135,70,109,41,111,89,31,89,43,46,111,27,175,42,138,50,145,30,49,91,36,30,63,119,132,26,82,160,23,137,53,132,62,74,158,93,29,43,119,256,51,21,51,85,94,22,31,24,65,32,120,36,71,70,149,166,32,41,153,98,47,57,33,47,27,159,91,39,156,53,88,28,43,44,32,73,30,154,107,101,31,49,37,70,114,116,47,27,87,164,88,228,102,133,88,36,77,104,156,87,28,130,79,184,53,31,85,77,23,76,28,30,75,36,23,33,99,24,67,24,85,46,4,55,86,119,101,157,49,35,48,43,27,18,142,156,69,37,39,134,150,85,116,42,151,40,61,160,109,30,329,91,31,29,22,38,41,51,35,89,51,40,112,71,146,35,29,143,48,21,98,155,32,43,48,19,133,66,58,119,38,45,127,99,77,55,23,21,33,23,82,127,74,23,65,26,152,45,3,145,51,45,152,42,101,29,63,168,144,35,38,49,31,40,113,119,50,23,47,155,38,157,51,32,125,36,55,23,87,71,94,99,51,23,162,82,32,146,121,40,28,97,159,28,36,64,30,26,189,160,26,29,24,29,47,72,37,125,52,192,126,39,25,35,33,38,156,77,38,17,133,40,11,45,67,40,84,100,145,30,125,133,56,42,70,50,112,157,135,156,46,139,38,46,44,116,90,160,80,48,42,64,88,161,147,101,40,26,23,59,104,41,50,40,29,49,45,163,86,129,40,69,28,34,162,23,39,82,36,80,81,10,90,112,40,72,82,37,40,39,84,45,106,32,97,102,34,22,51,59,33,26,28,36,44,45,90,99,163,70,68,104,37,51,70,23,251,40,38,44,101,112,120,51,147,17,49,89,85,143,26,79,35,122,54,74,25,61,35,31,149,79,169,135,33,145,43,65,161,65,155,118,58,34,45,155,148,36,82,40,127,149,38,58,61,39,25,69,33,245,139,166,122,56,32,35,35,23,103,134,68,49,25,64,60,40,113,28,54,90,158,160,21,40,38,154,45,42,160,34,87,43,51,91,98,153,63,273,66,33,70,96,19,67,12,147,161,37,57,125,26],\"xaxis\":\"x2\",\"yaxis\":\"y2\",\"type\":\"box\"}],                        {\"template\":{\"data\":{\"histogram2dcontour\":[{\"type\":\"histogram2dcontour\",\"colorbar\":{\"outlinewidth\":0,\"ticks\":\"\"},\"colorscale\":[[0.0,\"#0d0887\"],[0.1111111111111111,\"#46039f\"],[0.2222222222222222,\"#7201a8\"],[0.3333333333333333,\"#9c179e\"],[0.4444444444444444,\"#bd3786\"],[0.5555555555555556,\"#d8576b\"],[0.6666666666666666,\"#ed7953\"],[0.7777777777777778,\"#fb9f3a\"],[0.8888888888888888,\"#fdca26\"],[1.0,\"#f0f921\"]]}],\"choropleth\":[{\"type\":\"choropleth\",\"colorbar\":{\"outlinewidth\":0,\"ticks\":\"\"}}],\"histogram2d\":[{\"type\":\"histogram2d\",\"colorbar\":{\"outlinewidth\":0,\"ticks\":\"\"},\"colorscale\":[[0.0,\"#0d0887\"],[0.1111111111111111,\"#46039f\"],[0.2222222222222222,\"#7201a8\"],[0.3333333333333333,\"#9c179e\"],[0.4444444444444444,\"#bd3786\"],[0.5555555555555556,\"#d8576b\"],[0.6666666666666666,\"#ed7953\"],[0.7777777777777778,\"#fb9f3a\"],[0.8888888888888888,\"#fdca26\"],[1.0,\"#f0f921\"]]}],\"heatmap\":[{\"type\":\"heatmap\",\"colorbar\":{\"outlinewidth\":0,\"ticks\":\"\"},\"colorscale\":[[0.0,\"#0d0887\"],[0.1111111111111111,\"#46039f\"],[0.2222222222222222,\"#7201a8\"],[0.3333333333333333,\"#9c179e\"],[0.4444444444444444,\"#bd3786\"],[0.5555555555555556,\"#d8576b\"],[0.6666666666666666,\"#ed7953\"],[0.7777777777777778,\"#fb9f3a\"],[0.8888888888888888,\"#fdca26\"],[1.0,\"#f0f921\"]]}],\"heatmapgl\":[{\"type\":\"heatmapgl\",\"colorbar\":{\"outlinewidth\":0,\"ticks\":\"\"},\"colorscale\":[[0.0,\"#0d0887\"],[0.1111111111111111,\"#46039f\"],[0.2222222222222222,\"#7201a8\"],[0.3333333333333333,\"#9c179e\"],[0.4444444444444444,\"#bd3786\"],[0.5555555555555556,\"#d8576b\"],[0.6666666666666666,\"#ed7953\"],[0.7777777777777778,\"#fb9f3a\"],[0.8888888888888888,\"#fdca26\"],[1.0,\"#f0f921\"]]}],\"contourcarpet\":[{\"type\":\"contourcarpet\",\"colorbar\":{\"outlinewidth\":0,\"ticks\":\"\"}}],\"contour\":[{\"type\":\"contour\",\"colorbar\":{\"outlinewidth\":0,\"ticks\":\"\"},\"colorscale\":[[0.0,\"#0d0887\"],[0.1111111111111111,\"#46039f\"],[0.2222222222222222,\"#7201a8\"],[0.3333333333333333,\"#9c179e\"],[0.4444444444444444,\"#bd3786\"],[0.5555555555555556,\"#d8576b\"],[0.6666666666666666,\"#ed7953\"],[0.7777777777777778,\"#fb9f3a\"],[0.8888888888888888,\"#fdca26\"],[1.0,\"#f0f921\"]]}],\"surface\":[{\"type\":\"surface\",\"colorbar\":{\"outlinewidth\":0,\"ticks\":\"\"},\"colorscale\":[[0.0,\"#0d0887\"],[0.1111111111111111,\"#46039f\"],[0.2222222222222222,\"#7201a8\"],[0.3333333333333333,\"#9c179e\"],[0.4444444444444444,\"#bd3786\"],[0.5555555555555556,\"#d8576b\"],[0.6666666666666666,\"#ed7953\"],[0.7777777777777778,\"#fb9f3a\"],[0.8888888888888888,\"#fdca26\"],[1.0,\"#f0f921\"]]}],\"mesh3d\":[{\"type\":\"mesh3d\",\"colorbar\":{\"outlinewidth\":0,\"ticks\":\"\"}}],\"scatter\":[{\"fillpattern\":{\"fillmode\":\"overlay\",\"size\":10,\"solidity\":0.2},\"type\":\"scatter\"}],\"parcoords\":[{\"type\":\"parcoords\",\"line\":{\"colorbar\":{\"outlinewidth\":0,\"ticks\":\"\"}}}],\"scatterpolargl\":[{\"type\":\"scatterpolargl\",\"marker\":{\"colorbar\":{\"outlinewidth\":0,\"ticks\":\"\"}}}],\"bar\":[{\"error_x\":{\"color\":\"#2a3f5f\"},\"error_y\":{\"color\":\"#2a3f5f\"},\"marker\":{\"line\":{\"color\":\"#E5ECF6\",\"width\":0.5},\"pattern\":{\"fillmode\":\"overlay\",\"size\":10,\"solidity\":0.2}},\"type\":\"bar\"}],\"scattergeo\":[{\"type\":\"scattergeo\",\"marker\":{\"colorbar\":{\"outlinewidth\":0,\"ticks\":\"\"}}}],\"scatterpolar\":[{\"type\":\"scatterpolar\",\"marker\":{\"colorbar\":{\"outlinewidth\":0,\"ticks\":\"\"}}}],\"histogram\":[{\"marker\":{\"pattern\":{\"fillmode\":\"overlay\",\"size\":10,\"solidity\":0.2}},\"type\":\"histogram\"}],\"scattergl\":[{\"type\":\"scattergl\",\"marker\":{\"colorbar\":{\"outlinewidth\":0,\"ticks\":\"\"}}}],\"scatter3d\":[{\"type\":\"scatter3d\",\"line\":{\"colorbar\":{\"outlinewidth\":0,\"ticks\":\"\"}},\"marker\":{\"colorbar\":{\"outlinewidth\":0,\"ticks\":\"\"}}}],\"scattermapbox\":[{\"type\":\"scattermapbox\",\"marker\":{\"colorbar\":{\"outlinewidth\":0,\"ticks\":\"\"}}}],\"scatterternary\":[{\"type\":\"scatterternary\",\"marker\":{\"colorbar\":{\"outlinewidth\":0,\"ticks\":\"\"}}}],\"scattercarpet\":[{\"type\":\"scattercarpet\",\"marker\":{\"colorbar\":{\"outlinewidth\":0,\"ticks\":\"\"}}}],\"carpet\":[{\"aaxis\":{\"endlinecolor\":\"#2a3f5f\",\"gridcolor\":\"white\",\"linecolor\":\"white\",\"minorgridcolor\":\"white\",\"startlinecolor\":\"#2a3f5f\"},\"baxis\":{\"endlinecolor\":\"#2a3f5f\",\"gridcolor\":\"white\",\"linecolor\":\"white\",\"minorgridcolor\":\"white\",\"startlinecolor\":\"#2a3f5f\"},\"type\":\"carpet\"}],\"table\":[{\"cells\":{\"fill\":{\"color\":\"#EBF0F8\"},\"line\":{\"color\":\"white\"}},\"header\":{\"fill\":{\"color\":\"#C8D4E3\"},\"line\":{\"color\":\"white\"}},\"type\":\"table\"}],\"barpolar\":[{\"marker\":{\"line\":{\"color\":\"#E5ECF6\",\"width\":0.5},\"pattern\":{\"fillmode\":\"overlay\",\"size\":10,\"solidity\":0.2}},\"type\":\"barpolar\"}],\"pie\":[{\"automargin\":true,\"type\":\"pie\"}]},\"layout\":{\"autotypenumbers\":\"strict\",\"colorway\":[\"#636efa\",\"#EF553B\",\"#00cc96\",\"#ab63fa\",\"#FFA15A\",\"#19d3f3\",\"#FF6692\",\"#B6E880\",\"#FF97FF\",\"#FECB52\"],\"font\":{\"color\":\"#2a3f5f\"},\"hovermode\":\"closest\",\"hoverlabel\":{\"align\":\"left\"},\"paper_bgcolor\":\"white\",\"plot_bgcolor\":\"#E5ECF6\",\"polar\":{\"bgcolor\":\"#E5ECF6\",\"angularaxis\":{\"gridcolor\":\"white\",\"linecolor\":\"white\",\"ticks\":\"\"},\"radialaxis\":{\"gridcolor\":\"white\",\"linecolor\":\"white\",\"ticks\":\"\"}},\"ternary\":{\"bgcolor\":\"#E5ECF6\",\"aaxis\":{\"gridcolor\":\"white\",\"linecolor\":\"white\",\"ticks\":\"\"},\"baxis\":{\"gridcolor\":\"white\",\"linecolor\":\"white\",\"ticks\":\"\"},\"caxis\":{\"gridcolor\":\"white\",\"linecolor\":\"white\",\"ticks\":\"\"}},\"coloraxis\":{\"colorbar\":{\"outlinewidth\":0,\"ticks\":\"\"}},\"colorscale\":{\"sequential\":[[0.0,\"#0d0887\"],[0.1111111111111111,\"#46039f\"],[0.2222222222222222,\"#7201a8\"],[0.3333333333333333,\"#9c179e\"],[0.4444444444444444,\"#bd3786\"],[0.5555555555555556,\"#d8576b\"],[0.6666666666666666,\"#ed7953\"],[0.7777777777777778,\"#fb9f3a\"],[0.8888888888888888,\"#fdca26\"],[1.0,\"#f0f921\"]],\"sequentialminus\":[[0.0,\"#0d0887\"],[0.1111111111111111,\"#46039f\"],[0.2222222222222222,\"#7201a8\"],[0.3333333333333333,\"#9c179e\"],[0.4444444444444444,\"#bd3786\"],[0.5555555555555556,\"#d8576b\"],[0.6666666666666666,\"#ed7953\"],[0.7777777777777778,\"#fb9f3a\"],[0.8888888888888888,\"#fdca26\"],[1.0,\"#f0f921\"]],\"diverging\":[[0,\"#8e0152\"],[0.1,\"#c51b7d\"],[0.2,\"#de77ae\"],[0.3,\"#f1b6da\"],[0.4,\"#fde0ef\"],[0.5,\"#f7f7f7\"],[0.6,\"#e6f5d0\"],[0.7,\"#b8e186\"],[0.8,\"#7fbc41\"],[0.9,\"#4d9221\"],[1,\"#276419\"]]},\"xaxis\":{\"gridcolor\":\"white\",\"linecolor\":\"white\",\"ticks\":\"\",\"title\":{\"standoff\":15},\"zerolinecolor\":\"white\",\"automargin\":true,\"zerolinewidth\":2},\"yaxis\":{\"gridcolor\":\"white\",\"linecolor\":\"white\",\"ticks\":\"\",\"title\":{\"standoff\":15},\"zerolinecolor\":\"white\",\"automargin\":true,\"zerolinewidth\":2},\"scene\":{\"xaxis\":{\"backgroundcolor\":\"#E5ECF6\",\"gridcolor\":\"white\",\"linecolor\":\"white\",\"showbackground\":true,\"ticks\":\"\",\"zerolinecolor\":\"white\",\"gridwidth\":2},\"yaxis\":{\"backgroundcolor\":\"#E5ECF6\",\"gridcolor\":\"white\",\"linecolor\":\"white\",\"showbackground\":true,\"ticks\":\"\",\"zerolinecolor\":\"white\",\"gridwidth\":2},\"zaxis\":{\"backgroundcolor\":\"#E5ECF6\",\"gridcolor\":\"white\",\"linecolor\":\"white\",\"showbackground\":true,\"ticks\":\"\",\"zerolinecolor\":\"white\",\"gridwidth\":2}},\"shapedefaults\":{\"line\":{\"color\":\"#2a3f5f\"}},\"annotationdefaults\":{\"arrowcolor\":\"#2a3f5f\",\"arrowhead\":0,\"arrowwidth\":1},\"geo\":{\"bgcolor\":\"white\",\"landcolor\":\"#E5ECF6\",\"subunitcolor\":\"white\",\"showland\":true,\"showlakes\":true,\"lakecolor\":\"white\"},\"title\":{\"x\":0.05},\"mapbox\":{\"style\":\"light\"}}},\"xaxis\":{\"anchor\":\"y\",\"domain\":[0.0,1.0],\"title\":{\"text\":\"Length\"}},\"yaxis\":{\"anchor\":\"x\",\"domain\":[0.0,0.8316],\"title\":{\"text\":\"Frequency\"}},\"xaxis2\":{\"anchor\":\"y2\",\"domain\":[0.0,1.0],\"matches\":\"x\",\"showticklabels\":false,\"showgrid\":true},\"yaxis2\":{\"anchor\":\"x2\",\"domain\":[0.8416,1.0],\"matches\":\"y2\",\"showticklabels\":false,\"showline\":false,\"ticks\":\"\",\"showgrid\":false},\"legend\":{\"tracegroupgap\":0},\"title\":{\"text\":\"Histogram of Text Length\"},\"barmode\":\"relative\",\"showlegend\":true},                        {\"responsive\": true}                    ).then(function(){\n",
              "                            \n",
              "var gd = document.getElementById('680beb18-659a-4259-8290-98fd38f912e5');\n",
              "var x = new MutationObserver(function (mutations, observer) {{\n",
              "        var display = window.getComputedStyle(gd).display;\n",
              "        if (!display || display === 'none') {{\n",
              "            console.log([gd, 'removed!']);\n",
              "            Plotly.purge(gd);\n",
              "            observer.disconnect();\n",
              "        }}\n",
              "}});\n",
              "\n",
              "// Listen for the removal of the full notebook cells\n",
              "var notebookContainer = gd.closest('#notebook-container');\n",
              "if (notebookContainer) {{\n",
              "    x.observe(notebookContainer, {childList: true});\n",
              "}}\n",
              "\n",
              "// Listen for the clearing of the current output cell\n",
              "var outputEl = gd.closest('.output');\n",
              "if (outputEl) {{\n",
              "    x.observe(outputEl, {childList: true});\n",
              "}}\n",
              "\n",
              "                        })                };                            </script>        </div>\n",
              "</body>\n",
              "</html>"
            ]
          },
          "metadata": {}
        }
      ]
    },
    {
      "cell_type": "code",
      "source": [
        "# Histogram of no. of characters by category\n",
        "plt.figure(figsize=(12,6))\n",
        "sns.histplot(df[df['Category'] == 0]['No.of_Characters'])\n",
        "sns.histplot(df[df['Category'] == 1]['No.of_Characters'],color='red')"
      ],
      "metadata": {
        "colab": {
          "base_uri": "https://localhost:8080/",
          "height": 559
        },
        "id": "AGqn1TUwNLrO",
        "outputId": "86801d34-4f4c-417f-aa7a-319ebe2b8003"
      },
      "execution_count": 34,
      "outputs": [
        {
          "output_type": "execute_result",
          "data": {
            "text/plain": [
              "<Axes: xlabel='No.of_Characters', ylabel='Count'>"
            ]
          },
          "metadata": {},
          "execution_count": 34
        },
        {
          "output_type": "display_data",
          "data": {
            "text/plain": [
              "<Figure size 1200x600 with 1 Axes>"
            ],
            "image/png": "[encoded data removed]"
          },
          "metadata": {}
        }
      ]
    },
    {
      "cell_type": "code",
      "source": [
        "# Histogram of no. of words by category\n",
        "plt.figure(figsize=(12,6))\n",
        "sns.histplot(df[df['Category'] == 0]['No.of_Words'])\n",
        "sns.histplot(df[df['Category'] == 1]['No.of_Words'],color='red')"
      ],
      "metadata": {
        "colab": {
          "base_uri": "https://localhost:8080/",
          "height": 559
        },
        "id": "09WY3vhPNnIX",
        "outputId": "277f3e3d-f322-4304-8892-0e1883485e2a"
      },
      "execution_count": 35,
      "outputs": [
        {
          "output_type": "execute_result",
          "data": {
            "text/plain": [
              "<Axes: xlabel='No.of_Words', ylabel='Count'>"
            ]
          },
          "metadata": {},
          "execution_count": 35
        },
        {
          "output_type": "display_data",
          "data": {
            "text/plain": [
              "<Figure size 1200x600 with 1 Axes>"
            ],
            "image/png": "[encoded data removed]"
          },
          "metadata": {}
        }
      ]
    },
    {
      "cell_type": "code",
      "source": [
        "#  Histogram of no. of sentence by category\n",
        "plt.figure(figsize=(12,6))\n",
        "sns.histplot(df[df['Category'] == 0]['No.of_Sentences'])\n",
        "sns.histplot(df[df['Category'] == 1]['No.of_Sentences'],color='red')"
      ],
      "metadata": {
        "colab": {
          "base_uri": "https://localhost:8080/",
          "height": 559
        },
        "id": "TMnJ8F6xNuOU",
        "outputId": "69bae9db-3d87-47ca-ac8e-727e4306e098"
      },
      "execution_count": 36,
      "outputs": [
        {
          "output_type": "execute_result",
          "data": {
            "text/plain": [
              "<Axes: xlabel='No.of_Sentences', ylabel='Count'>"
            ]
          },
          "metadata": {},
          "execution_count": 36
        },
        {
          "output_type": "display_data",
          "data": {
            "text/plain": [
              "<Figure size 1200x600 with 1 Axes>"
            ],
            "image/png": "[encoded data removed]"
          },
          "metadata": {}
        }
      ]
    },
    {
      "cell_type": "code",
      "source": [
        "# Plotting a pair Plot\n",
        "sns.pairplot(df,hue='Category')"
      ],
      "metadata": {
        "colab": {
          "base_uri": "https://localhost:8080/",
          "height": 775
        },
        "id": "KmWy7-vMOE0T",
        "outputId": "e6caf555-95c7-4609-9ec6-1632e86c3a25"
      },
      "execution_count": 37,
      "outputs": [
        {
          "output_type": "execute_result",
          "data": {
            "text/plain": [
              "<seaborn.axisgrid.PairGrid at 0x7fe582bf4820>"
            ]
          },
          "metadata": {},
          "execution_count": 37
        },
        {
          "output_type": "display_data",
          "data": {
            "text/plain": [
              "<Figure size 824.861x750 with 12 Axes>"
            ],
            "image/png": "[encoded data removed]"
          },
          "metadata": {}
        }
      ]
    },
    {
      "cell_type": "code",
      "source": [
        "# Heat Map\n",
        "sns.heatmap(df.corr(),annot=True)"
      ],
      "metadata": {
        "colab": {
          "base_uri": "https://localhost:8080/",
          "height": 648
        },
        "id": "qj5W2JSuOs_-",
        "outputId": "5f5e53e6-a904-4c4f-8d1c-66b83a717161"
      },
      "execution_count": 38,
      "outputs": [
        {
          "output_type": "stream",
          "name": "stderr",
          "text": [
            "<ipython-input-38-bdac3c37265b>:2: FutureWarning:\n",
            "\n",
            "The default value of numeric_only in DataFrame.corr is deprecated. In a future version, it will default to False. Select only valid columns or specify the value of numeric_only to silence this warning.\n",
            "\n"
          ]
        },
        {
          "output_type": "execute_result",
          "data": {
            "text/plain": [
              "<Axes: >"
            ]
          },
          "metadata": {},
          "execution_count": 38
        },
        {
          "output_type": "display_data",
          "data": {
            "text/plain": [
              "<Figure size 640x480 with 2 Axes>"
            ],
            "image/png": "[encoded data removed]"
          },
          "metadata": {}
        }
      ]
    },
    {
      "cell_type": "markdown",
      "source": [
        "### **Building the model**"
      ],
      "metadata": {
        "id": "PjntdD3YOfEm"
      }
    },
    {
      "cell_type": "code",
      "source": [
        "from sklearn.feature_extraction.text import CountVectorizer,TfidfVectorizer\n",
        "cv = CountVectorizer()\n",
        "tfidf = TfidfVectorizer(max_features=3000)"
      ],
      "metadata": {
        "id": "CqRF7vnbOnXG"
      },
      "execution_count": 39,
      "outputs": []
    },
    {
      "cell_type": "code",
      "source": [
        "x = tfidf.fit_transform(df['MessageContent']).toarray()"
      ],
      "metadata": {
        "id": "upUZpc75Gn8c"
      },
      "execution_count": 40,
      "outputs": []
    },
    {
      "cell_type": "code",
      "source": [
        "y = df['Category'].values"
      ],
      "metadata": {
        "id": "I1Ec617LGn4b"
      },
      "execution_count": 41,
      "outputs": []
    },
    {
      "cell_type": "markdown",
      "source": [
        "TRAIN-TEST SPLIT"
      ],
      "metadata": {
        "id": "Y0mLxfq8n4YA"
      }
    },
    {
      "cell_type": "code",
      "source": [
        "from sklearn.model_selection import train_test_split\n",
        "\n",
        "x_train,x_test,y_train,y_test = train_test_split(x,y,test_size=0.2,random_state=2)"
      ],
      "metadata": {
        "id": "Lo5zPLxAGn0q"
      },
      "execution_count": 42,
      "outputs": []
    },
    {
      "cell_type": "code",
      "source": [
        "print(x_train.shape)"
      ],
      "metadata": {
        "id": "ttBzpNHqGntq",
        "colab": {
          "base_uri": "https://localhost:8080/"
        },
        "outputId": "012bd95e-eaea-4ef1-cb7d-3ab0718371c2"
      },
      "execution_count": 43,
      "outputs": [
        {
          "output_type": "stream",
          "name": "stdout",
          "text": [
            "(4135, 3000)\n"
          ]
        }
      ]
    },
    {
      "cell_type": "code",
      "source": [
        "print(y_train.shape)"
      ],
      "metadata": {
        "id": "UWF5XTp8Gnp8",
        "colab": {
          "base_uri": "https://localhost:8080/"
        },
        "outputId": "9c0475f8-ffe1-4b01-85ea-307230c31a18"
      },
      "execution_count": 44,
      "outputs": [
        {
          "output_type": "stream",
          "name": "stdout",
          "text": [
            "(4135,)\n"
          ]
        }
      ]
    },
    {
      "cell_type": "code",
      "source": [
        "print(x_test.shape)"
      ],
      "metadata": {
        "colab": {
          "base_uri": "https://localhost:8080/"
        },
        "id": "CadY92CGoRyX",
        "outputId": "599560d1-9fae-40b5-da45-749e8a878bf5"
      },
      "execution_count": 45,
      "outputs": [
        {
          "output_type": "stream",
          "name": "stdout",
          "text": [
            "(1034, 3000)\n"
          ]
        }
      ]
    },
    {
      "cell_type": "code",
      "source": [
        "print(y_test.shape)"
      ],
      "metadata": {
        "colab": {
          "base_uri": "https://localhost:8080/"
        },
        "id": "Zw5AOp7hoNDt",
        "outputId": "2ad8d761-36b7-4778-81bb-628c3690dc37"
      },
      "execution_count": 46,
      "outputs": [
        {
          "output_type": "stream",
          "name": "stdout",
          "text": [
            "(1034,)\n"
          ]
        }
      ]
    },
    {
      "cell_type": "markdown",
      "source": [
        "**Multinomial Naive Bayes Model**"
      ],
      "metadata": {
        "id": "Y7wynx6NGpA3"
      }
    },
    {
      "cell_type": "code",
      "source": [
        "from sklearn.naive_bayes import MultinomialNB\n",
        "from sklearn.metrics import accuracy_score, precision_score, confusion_matrix, classification_report\n",
        "\n",
        "multinomial_nb_model = MultinomialNB()\n",
        "multinomial_nb_model.fit(x_train, y_train)  # Train the model\n",
        "\n",
        "prediction = multinomial_nb_model.predict(x_test)\n",
        "conf_matrix = confusion_matrix(y_test,prediction)\n",
        "classification_rep = classification_report(y_test,prediction)\n",
        "\n",
        "print(\"Multinomial NB\")\n",
        "print(\"Accuracy score: {}\". format(accuracy_score(y_test, prediction)) )\n",
        "print(\"Precision score: {}\". format(precision_score(y_test, prediction)) )\n",
        "print(\"Confusion Matrix:\")\n",
        "print(conf_matrix)\n",
        "print(\"Classification Report:\")\n",
        "print(classification_rep)\n"
      ],
      "metadata": {
        "id": "fe9A6sp0GngV",
        "colab": {
          "base_uri": "https://localhost:8080/"
        },
        "outputId": "1e43dd67-93c3-4b77-e34e-93bce8b5d164"
      },
      "execution_count": 47,
      "outputs": [
        {
          "output_type": "stream",
          "name": "stdout",
          "text": [
            "Multinomial NB\n",
            "Accuracy score: 0.9738878143133463\n",
            "Precision score: 1.0\n",
            "Confusion Matrix:\n",
            "[[896   0]\n",
            " [ 27 111]]\n",
            "Classification Report:\n",
            "              precision    recall  f1-score   support\n",
            "\n",
            "           0       0.97      1.00      0.99       896\n",
            "           1       1.00      0.80      0.89       138\n",
            "\n",
            "    accuracy                           0.97      1034\n",
            "   macro avg       0.99      0.90      0.94      1034\n",
            "weighted avg       0.97      0.97      0.97      1034\n",
            "\n"
          ]
        }
      ]
    },
    {
      "cell_type": "markdown",
      "source": [
        "**Bernoulli Naive Bayes Model**"
      ],
      "metadata": {
        "id": "APZWClh2o3aE"
      }
    },
    {
      "cell_type": "code",
      "source": [
        "from sklearn.naive_bayes import BernoulliNB\n",
        "from sklearn.metrics import accuracy_score, precision_score, confusion_matrix, classification_report\n",
        "\n",
        "bernoulli_nb_model = BernoulliNB()\n",
        "bernoulli_nb_model.fit(x_train, y_train)\n",
        "\n",
        "prediction = bernoulli_nb_model.predict(x_test)\n",
        "conf_matrix = confusion_matrix(y_test,prediction)\n",
        "classification_rep = classification_report(y_test,prediction)\n",
        "\n",
        "print(\"Multinomial NB\")\n",
        "print(\"Accuracy score: {}\". format(accuracy_score(y_test, prediction)) )\n",
        "print(\"Precision score: {}\". format(precision_score(y_test, prediction)) )\n",
        "print(\"Confusion Matrix:\")\n",
        "print(conf_matrix)\n",
        "print(\"Classification Report:\")\n",
        "print(classification_rep)"
      ],
      "metadata": {
        "id": "pDuduHI-Gu7P",
        "colab": {
          "base_uri": "https://localhost:8080/"
        },
        "outputId": "5adf048e-1af6-47d8-b0c7-e634ca458db6"
      },
      "execution_count": 48,
      "outputs": [
        {
          "output_type": "stream",
          "name": "stdout",
          "text": [
            "Multinomial NB\n",
            "Accuracy score: 0.9845261121856866\n",
            "Precision score: 0.9765625\n",
            "Confusion Matrix:\n",
            "[[893   3]\n",
            " [ 13 125]]\n",
            "Classification Report:\n",
            "              precision    recall  f1-score   support\n",
            "\n",
            "           0       0.99      1.00      0.99       896\n",
            "           1       0.98      0.91      0.94       138\n",
            "\n",
            "    accuracy                           0.98      1034\n",
            "   macro avg       0.98      0.95      0.97      1034\n",
            "weighted avg       0.98      0.98      0.98      1034\n",
            "\n"
          ]
        }
      ]
    },
    {
      "cell_type": "markdown",
      "source": [
        "**Gaussian Naive Bayes Model**"
      ],
      "metadata": {
        "id": "DAt8ovqGpGm9"
      }
    },
    {
      "cell_type": "code",
      "source": [
        "from sklearn.naive_bayes import GaussianNB\n",
        "from sklearn.metrics import accuracy_score, precision_score, confusion_matrix, classification_report\n",
        "\n",
        "gaussian_nb_model = GaussianNB()\n",
        "gaussian_nb_model.fit(x_train, y_train)\n",
        "\n",
        "prediction = gaussian_nb_model.predict(x_test)\n",
        "conf_matrix = confusion_matrix(y_test,prediction)\n",
        "classification_rep = classification_report(y_test,prediction)\n",
        "\n",
        "print(\"Gaussian NB\")\n",
        "print(\"Accuracy score: {}\". format(accuracy_score(y_test, prediction)) )\n",
        "print(\"Precision score: {}\". format(precision_score(y_test, prediction)) )\n",
        "print(\"Confusion Matrix:\")\n",
        "print(conf_matrix)\n",
        "print(\"Classification Report:\")\n",
        "print(classification_rep)"
      ],
      "metadata": {
        "colab": {
          "base_uri": "https://localhost:8080/"
        },
        "id": "CuPaDaQBpF0E",
        "outputId": "599f71df-c96c-432e-e347-6557792301c4"
      },
      "execution_count": 49,
      "outputs": [
        {
          "output_type": "stream",
          "name": "stdout",
          "text": [
            "Gaussian NB\n",
            "Accuracy score: 0.8965183752417795\n",
            "Precision score: 0.5756097560975609\n",
            "Confusion Matrix:\n",
            "[[809  87]\n",
            " [ 20 118]]\n",
            "Classification Report:\n",
            "              precision    recall  f1-score   support\n",
            "\n",
            "           0       0.98      0.90      0.94       896\n",
            "           1       0.58      0.86      0.69       138\n",
            "\n",
            "    accuracy                           0.90      1034\n",
            "   macro avg       0.78      0.88      0.81      1034\n",
            "weighted avg       0.92      0.90      0.90      1034\n",
            "\n"
          ]
        }
      ]
    },
    {
      "cell_type": "markdown",
      "source": [
        "**Confusion Matrix Subplot for 3 Models**"
      ],
      "metadata": {
        "id": "u9pA8-ytspZh"
      }
    },
    {
      "cell_type": "code",
      "source": [
        "from sklearn.metrics import confusion_matrix\n",
        "models = [(\"Multinomial NB\", multinomial_nb_model), (\"Bernoulli NB\", bernoulli_nb_model),(\"Gaussian NB\", gaussian_nb_model) ]\n",
        "\n",
        "fig, axes = plt.subplots(1, 3, figsize=(10, 3))\n",
        "for i, (model_name, model) in enumerate(models):\n",
        "    prediction = model.predict(x_test)\n",
        "    cm = confusion_matrix(y_test, prediction)\n",
        "    sns.heatmap(cm, annot=True, fmt=\"d\", cmap=\"Blues\", cbar=False, ax=axes[i])\n",
        "    axes[i].set_title(f\"{model_name} - Confusion Matrix\")\n",
        "    axes[i].set_xlabel(\"Predicted\")\n",
        "    axes[i].set_ylabel(\"Actual\")\n",
        "plt.tight_layout()\n",
        "plt.show()"
      ],
      "metadata": {
        "id": "7kyYBIuJGzVd",
        "colab": {
          "base_uri": "https://localhost:8080/",
          "height": 307
        },
        "outputId": "1c2643b8-cb49-4ad7-9c2b-72090fc97c90"
      },
      "execution_count": 50,
      "outputs": [
        {
          "output_type": "display_data",
          "data": {
            "text/plain": [
              "<Figure size 1000x300 with 3 Axes>"
            ],
            "image/png": "[encoded data removed]"
          },
          "metadata": {}
        }
      ]
    },
    {
      "cell_type": "markdown",
      "source": [
        "**Metric Comparison Heatmap**"
      ],
      "metadata": {
        "id": "LXBA6M9usthf"
      }
    },
    {
      "cell_type": "code",
      "source": [
        "from sklearn.metrics import recall_score, f1_score\n",
        "metric_data = []\n",
        "for model_name, model in models:\n",
        "    prediction = model.predict(x_test)\n",
        "    accuracy = accuracy_score(y_test, prediction)\n",
        "    precision = precision_score(y_test, prediction)\n",
        "    recall = recall_score(y_test, prediction)\n",
        "    f1 = f1_score(y_test, prediction)\n",
        "    metric_data.append([accuracy, precision, recall, f1])\n",
        "metric_labels = [\"Accuracy\", \"Precision\", \"Recall\", \"F1 Score\"]\n",
        "#heatmap for metric comparison\n",
        "plt.figure(figsize=(6, 3))\n",
        "sns.heatmap(metric_data, annot=True, fmt=\".2f\", cbar=False, cmap=\"summer_r\", xticklabels=metric_labels, yticklabels=[model_name for model_name, _ in models])\n",
        "plt.title(\"Metric Comparison\")\n",
        "plt.yticks(rotation=0)\n",
        "plt.xlabel(\"Metrics\")\n",
        "plt.ylabel(\"Models\")\n",
        "plt.tight_layout()\n",
        "plt.show()"
      ],
      "metadata": {
        "id": "KGey8vCUG3XA",
        "colab": {
          "base_uri": "https://localhost:8080/",
          "height": 307
        },
        "outputId": "f00ae6c5-0d4a-4d45-f293-d224ee98d01f"
      },
      "execution_count": 51,
      "outputs": [
        {
          "output_type": "display_data",
          "data": {
            "text/plain": [
              "<Figure size 600x300 with 1 Axes>"
            ],
            "image/png": "[encoded data removed]"
          },
          "metadata": {}
        }
      ]
    }
  ]
}